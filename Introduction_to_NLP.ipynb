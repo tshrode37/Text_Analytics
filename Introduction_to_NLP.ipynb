{
 "cells": [
  {
   "cell_type": "markdown",
   "metadata": {},
   "source": [
    "# Introduction to Natural Language Processing (NLP)"
   ]
  },
  {
   "cell_type": "markdown",
   "metadata": {},
   "source": [
    "Using the Wizard of Oz pickle file from last week, we will clean the text and then we will be perform part of speech tagging using SpaCy. Finally, we will count 2-grams, 3-grams, and 4-grams, plot the Zipfian distribution of the 2-grams, then create a WordCloud of the 2-grams. "
   ]
  },
  {
   "cell_type": "markdown",
   "metadata": {},
   "source": [
    "## Load Data and Clean Text"
   ]
  },
  {
   "cell_type": "markdown",
   "metadata": {},
   "source": [
    "First, we need to load the Wizard of Oz pickle file and then we will clean the text with the function created in the Week 1 Assignment.  "
   ]
  },
  {
   "cell_type": "code",
   "execution_count": 1,
   "metadata": {},
   "outputs": [],
   "source": [
    "#load dataset\n",
    "import pickle as pk\n",
    "chapters = pk.load(open('C:/Users/07hoc/Downloads/MSDS 682 Downloads/Week 2/wizard_of_oz_stories.pk', 'rb'))"
   ]
  },
  {
   "cell_type": "markdown",
   "metadata": {},
   "source": [
    "To clean our text, we need to convert our 'chapters' from a list to a string so SpaCy can process the text. "
   ]
  },
  {
   "cell_type": "code",
   "execution_count": 2,
   "metadata": {},
   "outputs": [],
   "source": [
    "#convert list (chapters) to string (str_chapters)\n",
    "str_chapters = ' '.join(chapters)"
   ]
  },
  {
   "cell_type": "code",
   "execution_count": 3,
   "metadata": {},
   "outputs": [],
   "source": [
    "import spacy\n",
    "nlp = spacy.load('en_core_web_lg')"
   ]
  },
  {
   "cell_type": "code",
   "execution_count": 4,
   "metadata": {},
   "outputs": [],
   "source": [
    "#load text cleaning function\n",
    "def clean_text(text):\n",
    "    nlp_text = nlp(text)\n",
    "    lemmas = []\n",
    "    for word in nlp_text:\n",
    "        if word.is_stop: \n",
    "            continue \n",
    "        if not word.is_alpha: \n",
    "            continue\n",
    "        if word.lemma_ == '-PRON-':\n",
    "            lemmas.append(word.lower_) \n",
    "        else:\n",
    "            lemmas.append(word.lemma_)\n",
    "            \n",
    "    return ' '.join(lemmas)"
   ]
  },
  {
   "cell_type": "markdown",
   "metadata": {},
   "source": [
    "With SpaCy and our text cleaning function loaded, we can apply our clean_text function to our Wizard of Oz string. "
   ]
  },
  {
   "cell_type": "code",
   "execution_count": 5,
   "metadata": {},
   "outputs": [],
   "source": [
    "#apply clean_text function\n",
    "clean_chapters = clean_text(str_chapters)"
   ]
  },
  {
   "cell_type": "code",
   "execution_count": 6,
   "metadata": {},
   "outputs": [
    {
     "data": {
      "text/plain": [
       "'splendid palace Emerald City center fairy Land Oz great Throne Room Princess Ozma ruler hour day sit'"
      ]
     },
     "execution_count": 6,
     "metadata": {},
     "output_type": "execute_result"
    }
   ],
   "source": [
    "#view clean text\n",
    "clean_chapters[0:100]"
   ]
  },
  {
   "cell_type": "markdown",
   "metadata": {},
   "source": [
    "## Part of Speech Tagging"
   ]
  },
  {
   "cell_type": "markdown",
   "metadata": {},
   "source": [
    "Part of Speech (POS) tagging is the process of taking a word in the text and linking it to a certain part of speech such as a noun, verb, pronoun, or adjective (WorldClass FTE). To perform part of speech tagging, we can use NLTK or SpaCy. Below, we will use SpaCy to perform part of speech tagging because SpaCy can parse and tag a given document after tokenization (Part-of-speech tags, n.d.). "
   ]
  },
  {
   "cell_type": "code",
   "execution_count": 7,
   "metadata": {},
   "outputs": [
    {
     "data": {
      "text/plain": [
       "spacy.tokens.doc.Doc"
      ]
     },
     "execution_count": 7,
     "metadata": {},
     "output_type": "execute_result"
    }
   ],
   "source": [
    "#allow nlp to tokenize/process clean text \n",
    "doc = nlp(clean_chapters) \n",
    "type(doc)"
   ]
  },
  {
   "cell_type": "code",
   "execution_count": 8,
   "metadata": {
    "scrolled": true
   },
   "outputs": [
    {
     "data": {
      "text/plain": [
       "(splendid, spacy.tokens.token.Token)"
      ]
     },
     "execution_count": 8,
     "metadata": {},
     "output_type": "execute_result"
    }
   ],
   "source": [
    "doc[0], type(doc[0]) #find type of first token"
   ]
  },
  {
   "cell_type": "markdown",
   "metadata": {},
   "source": [
    "Now, we can loop through all the tokens in our 'doc' variable and perform part of speech tagging (Part-of-speech tags, n.d.). In SpaCy, we can use the .pos_ function which gives us the universal part of speech tags (Universal POS tags). Note, we use the 'break' function below so we can exit the loop before the loop is finished (Forloop - python wiki, n.d.). We can add a counter which allows us to exit the loop after a specific number of iterations. In this case, we will exit the loop when our counter (x) is 10. "
   ]
  },
  {
   "cell_type": "code",
   "execution_count": 9,
   "metadata": {},
   "outputs": [
    {
     "name": "stdout",
     "output_type": "stream",
     "text": [
      "splendid ADJ\n",
      "palace NOUN\n",
      "Emerald PROPN\n",
      "City PROPN\n",
      "center NOUN\n",
      "fairy NOUN\n",
      "Land NOUN\n",
      "Oz PROPN\n",
      "great ADJ\n",
      "Throne PROPN\n"
     ]
    }
   ],
   "source": [
    "x=0\n",
    "for token in doc: #loop through tokens in 'doc'\n",
    "    if x == 10:\n",
    "        break #use break to loop through x times to reduce output\n",
    "    print(token, token.pos_) #prints the token and POS tag\n",
    "    x = x+1 "
   ]
  },
  {
   "cell_type": "markdown",
   "metadata": {},
   "source": [
    "To find the most frequent part of speech tags, we can create a list of tokens and tags, append the data using the loop above, and then use pandas to make a dataframe using a dictionary. Using a dictionary allows us to give our dataframe a key column (tokens list) and a value column (part of speech tag list). "
   ]
  },
  {
   "cell_type": "code",
   "execution_count": 10,
   "metadata": {},
   "outputs": [],
   "source": [
    "tokens = [] #empty list for tokens\n",
    "pos = [] #empty list for POS\n",
    "for token in doc: \n",
    "    tokens.append(token) #append token to list\n",
    "    pos.append(token.pos_) #append token's pos tag to list"
   ]
  },
  {
   "cell_type": "code",
   "execution_count": 11,
   "metadata": {
    "scrolled": true
   },
   "outputs": [
    {
     "data": {
      "text/html": [
       "<div>\n",
       "<style scoped>\n",
       "    .dataframe tbody tr th:only-of-type {\n",
       "        vertical-align: middle;\n",
       "    }\n",
       "\n",
       "    .dataframe tbody tr th {\n",
       "        vertical-align: top;\n",
       "    }\n",
       "\n",
       "    .dataframe thead th {\n",
       "        text-align: right;\n",
       "    }\n",
       "</style>\n",
       "<table border=\"1\" class=\"dataframe\">\n",
       "  <thead>\n",
       "    <tr style=\"text-align: right;\">\n",
       "      <th></th>\n",
       "      <th>Token</th>\n",
       "      <th>POS</th>\n",
       "    </tr>\n",
       "  </thead>\n",
       "  <tbody>\n",
       "    <tr>\n",
       "      <td>0</td>\n",
       "      <td>splendid</td>\n",
       "      <td>ADJ</td>\n",
       "    </tr>\n",
       "    <tr>\n",
       "      <td>1</td>\n",
       "      <td>palace</td>\n",
       "      <td>NOUN</td>\n",
       "    </tr>\n",
       "    <tr>\n",
       "      <td>2</td>\n",
       "      <td>Emerald</td>\n",
       "      <td>PROPN</td>\n",
       "    </tr>\n",
       "    <tr>\n",
       "      <td>3</td>\n",
       "      <td>City</td>\n",
       "      <td>PROPN</td>\n",
       "    </tr>\n",
       "    <tr>\n",
       "      <td>4</td>\n",
       "      <td>center</td>\n",
       "      <td>NOUN</td>\n",
       "    </tr>\n",
       "    <tr>\n",
       "      <td>5</td>\n",
       "      <td>fairy</td>\n",
       "      <td>NOUN</td>\n",
       "    </tr>\n",
       "    <tr>\n",
       "      <td>6</td>\n",
       "      <td>Land</td>\n",
       "      <td>NOUN</td>\n",
       "    </tr>\n",
       "    <tr>\n",
       "      <td>7</td>\n",
       "      <td>Oz</td>\n",
       "      <td>PROPN</td>\n",
       "    </tr>\n",
       "    <tr>\n",
       "      <td>8</td>\n",
       "      <td>great</td>\n",
       "      <td>ADJ</td>\n",
       "    </tr>\n",
       "    <tr>\n",
       "      <td>9</td>\n",
       "      <td>Throne</td>\n",
       "      <td>PROPN</td>\n",
       "    </tr>\n",
       "  </tbody>\n",
       "</table>\n",
       "</div>"
      ],
      "text/plain": [
       "      Token    POS\n",
       "0  splendid    ADJ\n",
       "1    palace   NOUN\n",
       "2   Emerald  PROPN\n",
       "3      City  PROPN\n",
       "4    center   NOUN\n",
       "5     fairy   NOUN\n",
       "6      Land   NOUN\n",
       "7        Oz  PROPN\n",
       "8     great    ADJ\n",
       "9    Throne  PROPN"
      ]
     },
     "execution_count": 11,
     "metadata": {},
     "output_type": "execute_result"
    }
   ],
   "source": [
    "#create a dataframe with the two lists above\n",
    "import pandas as pd\n",
    "oz_df = pd.DataFrame({'Token': tokens, 'POS': pos}) #use dictionary\n",
    "oz_df.head(10)"
   ]
  },
  {
   "cell_type": "markdown",
   "metadata": {},
   "source": [
    "The .value_counts() function allows us to return an object that contains the counts of unique values in descending order (Python .Value_count()s, n.d.)."
   ]
  },
  {
   "cell_type": "code",
   "execution_count": 12,
   "metadata": {
    "scrolled": true
   },
   "outputs": [
    {
     "data": {
      "text/plain": [
       "NOUN     1812\n",
       "VERB     1084\n",
       "PROPN     832\n",
       "ADJ       686\n",
       "ADV       236\n",
       "INTJ       34\n",
       "ADP        18\n",
       "SCONJ      15\n",
       "NUM         9\n",
       "X           8\n",
       "AUX         6\n",
       "PRON        2\n",
       "DET         2\n",
       "PUNCT       1\n",
       "PART        1\n",
       "Name: POS, dtype: int64"
      ]
     },
     "execution_count": 12,
     "metadata": {},
     "output_type": "execute_result"
    }
   ],
   "source": [
    "#count how many times each POS appears\n",
    "oz_df['POS'].value_counts()"
   ]
  },
  {
   "cell_type": "markdown",
   "metadata": {},
   "source": [
    "The output above indicates that the most frequent part of speech tags include nouns, verbs, and proper nouns. "
   ]
  },
  {
   "cell_type": "markdown",
   "metadata": {},
   "source": [
    "## Count N-Grams"
   ]
  },
  {
   "cell_type": "markdown",
   "metadata": {},
   "source": [
    "The term N-gram is a concept found in Natural Language Processing. An N-gram is a sequence of word series of a length *n* (Kumar, 2017). To count N-grams, we can use the CountVectorizer found in sklearn.feature_extraction.text (Sklearn. Feature_extraction, n.d.). This module allows us to tokenize a collection of text and convert the tokenized text to a matrix of token counts (Sklearn. Feature_extraction, n.d.). To do this, we need to first import the CountVectorizer. "
   ]
  },
  {
   "cell_type": "code",
   "execution_count": 13,
   "metadata": {},
   "outputs": [],
   "source": [
    "from sklearn.feature_extraction.text import CountVectorizer"
   ]
  },
  {
   "cell_type": "markdown",
   "metadata": {},
   "source": [
    "### Count 1-Grams (Words)"
   ]
  },
  {
   "cell_type": "markdown",
   "metadata": {},
   "source": [
    "Now, we can create our CountVectorizer so that it counts 1-grams (unigrams/words). After creating the vectorizer, we can use it to tokenize the text and count the word occurrences, which will then be stored in a matrix."
   ]
  },
  {
   "cell_type": "code",
   "execution_count": 14,
   "metadata": {
    "scrolled": false
   },
   "outputs": [
    {
     "data": {
      "text/plain": [
       "<1x1405 sparse matrix of type '<class 'numpy.int64'>'\n",
       "\twith 1405 stored elements in Compressed Sparse Row format>"
      ]
     },
     "execution_count": 14,
     "metadata": {},
     "output_type": "execute_result"
    }
   ],
   "source": [
    "vectorizer = CountVectorizer() #create count vectorizer\n",
    "counts = vectorizer.fit_transform([clean_chapters]) #fit the vecorizer to our text (must be a list)\n",
    "counts"
   ]
  },
  {
   "cell_type": "markdown",
   "metadata": {},
   "source": [
    "To view the raw word counts in the matrix, we can use the .todense() function. "
   ]
  },
  {
   "cell_type": "code",
   "execution_count": 15,
   "metadata": {},
   "outputs": [
    {
     "data": {
      "text/plain": [
       "matrix([[2, 2, 1, ..., 2, 1, 1]], dtype=int64)"
      ]
     },
     "execution_count": 15,
     "metadata": {},
     "output_type": "execute_result"
    }
   ],
   "source": [
    "counts.todense() #look at raw word counts// can also use .toarray()"
   ]
  },
  {
   "cell_type": "markdown",
   "metadata": {},
   "source": [
    "To get the word that matches the count, we can look at the vocabulary of the 'vectorizer'. The .vocabulary_ command maps the words to their counts, which is then stored in a dictionary where the word is the key and the value is the index (Sklearn. Feature_extraction, n.d.). "
   ]
  },
  {
   "cell_type": "code",
   "execution_count": 16,
   "metadata": {},
   "outputs": [],
   "source": [
    "dict_1_gram = vectorizer.vocabulary_ #in dictionary: key = word, index = value"
   ]
  },
  {
   "cell_type": "markdown",
   "metadata": {},
   "source": [
    "The command 'dict_1_gram' (variable dictionary is stored in) will print the entire dictionary. To limit the output, we can use list slicing and then store the key:value pairs in a dictionary (Get first N key:value pairs in a dictionary, n.d.). The .items() parameter will allow us to return a list with all the dictionary key:value pairs (Get first N key:value pairs in a dictionary, n.d.). For a list, we can get the first few items by using the [x:y] argument. Below, we will limit the output to the first 10 key:value (word:index) pairs. "
   ]
  },
  {
   "cell_type": "code",
   "execution_count": 17,
   "metadata": {
    "scrolled": false
   },
   "outputs": [
    {
     "data": {
      "text/plain": [
       "{'splendid': 1125,\n",
       " 'palace': 830,\n",
       " 'emerald': 372,\n",
       " 'city': 196,\n",
       " 'center': 178,\n",
       " 'fairy': 407,\n",
       " 'land': 659,\n",
       " 'oz': 825,\n",
       " 'great': 515,\n",
       " 'throne': 1239}"
      ]
     },
     "execution_count": 17,
     "metadata": {},
     "output_type": "execute_result"
    }
   ],
   "source": [
    "out_1_gram = dict(list(dict_1_gram.items())[0: 10]) #limit output\n",
    "out_1_gram"
   ]
  },
  {
   "cell_type": "markdown",
   "metadata": {},
   "source": [
    "Another way to get the words and their index is to use a loop. We can loop through the word and the index in the 'vectorizer.vocabulary_' dictionary items and print them. Below, we use the 'break' function to exit the loop before the loop is finished (Forloop - python wiki, n.d.). We will also add a counter which will allow us to exit the loop after a specific number of iterations. In this case, we will exit the loop when our counter (y) is 10. "
   ]
  },
  {
   "cell_type": "code",
   "execution_count": 18,
   "metadata": {},
   "outputs": [
    {
     "name": "stdout",
     "output_type": "stream",
     "text": [
      "splendid : 1125\n",
      "palace : 830\n",
      "emerald : 372\n",
      "city : 196\n",
      "center : 178\n",
      "fairy : 407\n",
      "land : 659\n",
      "oz : 825\n",
      "great : 515\n",
      "throne : 1239\n"
     ]
    }
   ],
   "source": [
    "y= 0\n",
    "for vocab, index in vectorizer.vocabulary_.items():\n",
    "    if y == 10:\n",
    "        break\n",
    "    print(vocab,':', index)\n",
    "    y = y+1"
   ]
  },
  {
   "cell_type": "markdown",
   "metadata": {},
   "source": [
    "To get the actual counts of the word (key), we can use the .flatten() function to \"collapse\" our matrix into one dimension (NumPy Array manipulation, 2020). Thus, if we wanted to get the counts for the word 'splendid', we would flatten our matrix, then we would use [0, 1125] to indicate that 0 is the first document and 1125 is the index in our word count matrix for 'splendid'."
   ]
  },
  {
   "cell_type": "code",
   "execution_count": 19,
   "metadata": {
    "scrolled": true
   },
   "outputs": [
    {
     "data": {
      "text/plain": [
       "2"
      ]
     },
     "execution_count": 19,
     "metadata": {},
     "output_type": "execute_result"
    }
   ],
   "source": [
    "counts.todense().flatten()[0, 1125] #count for 'splendid'"
   ]
  },
  {
   "cell_type": "markdown",
   "metadata": {},
   "source": [
    "Thus, the word 'splendid' occurs in our cleaned Wizard of Oz text 2 times."
   ]
  },
  {
   "cell_type": "markdown",
   "metadata": {},
   "source": [
    "### Count 2-Grams"
   ]
  },
  {
   "cell_type": "markdown",
   "metadata": {},
   "source": [
    "To get counts for n-grams, where n is greater than 1, we need to use the ngram_range parameter. The ngram_range paramter is a tuple that takes in a lower boundary and upper boundary of the range of n-values for different word n-grams (Sklearn. Feature_extraction, n.d.). For example, an ngram_range of (1, 1) means only unigrams, (1, 2) means unigrams and bigrams, and (2, 2) means only bigrams (Sklearn. Feature_extraction, n.d.).\n",
    "\n",
    "Thus, following similar steps above, we can find the counts of 2-grams. "
   ]
  },
  {
   "cell_type": "code",
   "execution_count": 20,
   "metadata": {},
   "outputs": [
    {
     "data": {
      "text/plain": [
       "matrix([[1, 1, 1, ..., 1, 1, 1]], dtype=int64)"
      ]
     },
     "execution_count": 20,
     "metadata": {},
     "output_type": "execute_result"
    }
   ],
   "source": [
    "#to get 2-grams\n",
    "vectorizer_pairs = CountVectorizer(ngram_range=[2,2]) #2-grams\n",
    "bi_counts = vectorizer_pairs.fit_transform([clean_chapters]) #must be a list\n",
    "bi_counts.todense()"
   ]
  },
  {
   "cell_type": "code",
   "execution_count": 21,
   "metadata": {},
   "outputs": [
    {
     "data": {
      "text/plain": [
       "{'splendid palace': 3485,\n",
       " 'palace emerald': 2625,\n",
       " 'emerald city': 1016,\n",
       " 'city center': 568,\n",
       " 'center fairy': 523,\n",
       " 'fairy land': 1114,\n",
       " 'land oz': 2018,\n",
       " 'oz great': 2557,\n",
       " 'great throne': 1510,\n",
       " 'throne room': 3783}"
      ]
     },
     "execution_count": 21,
     "metadata": {},
     "output_type": "execute_result"
    }
   ],
   "source": [
    "dict_2_gram = vectorizer_pairs.vocabulary_\n",
    "out_2_gram = dict(list(dict_2_gram.items())[0: 10]) #limit output\n",
    "out_2_gram"
   ]
  },
  {
   "cell_type": "code",
   "execution_count": 22,
   "metadata": {},
   "outputs": [
    {
     "data": {
      "text/plain": [
       "2"
      ]
     },
     "execution_count": 22,
     "metadata": {},
     "output_type": "execute_result"
    }
   ],
   "source": [
    "bi_counts.todense().flatten()[0, 3485] #counts for 'splendid palace'"
   ]
  },
  {
   "cell_type": "markdown",
   "metadata": {},
   "source": [
    "Thus, the bigram 'splendid palace' occurs 2 times in our text. "
   ]
  },
  {
   "cell_type": "markdown",
   "metadata": {},
   "source": [
    "#### WordCloud of 2-Grams"
   ]
  },
  {
   "cell_type": "markdown",
   "metadata": {},
   "source": [
    "To create a WordCloud of the counts for 2-grams, we will use the generate_from_frequencies method which creates a WordCloud from words and frequencies (Mueller, 2020). First, we need to be able to get the counts from our matrix we created above. The variable 'bi_counts' contains the transformed and fitted vectorizer matrix which has the raw counts for the bigrams. To be able to retrieve the counts from this matrix, we need to use the .todense() function to get the raw counts, and then we use the .flatten() function to collapse the matrix, similar to above. Then, we need to take this matrix and transform it into a numpy array so that is a single dimension array rather than a matrix with multiple dimensions. "
   ]
  },
  {
   "cell_type": "code",
   "execution_count": 23,
   "metadata": {},
   "outputs": [
    {
     "data": {
      "text/plain": [
       "array([1, 1, 1, ..., 1, 1, 1], dtype=int64)"
      ]
     },
     "execution_count": 23,
     "metadata": {},
     "output_type": "execute_result"
    }
   ],
   "source": [
    "import numpy as np\n",
    "oz_counts = np.array(bi_counts.todense()).flatten() \n",
    "oz_counts #notice single brackets (single dimension)"
   ]
  },
  {
   "cell_type": "markdown",
   "metadata": {},
   "source": [
    "Next, we will need to create a dictionary, 'freq_dict', which will contain the counts (frequencies) for each word. To do this, we will need to loop through the 2-grams (keys) and then loop through the indexes (values) in our 'vectorizer_pairs.vocabulary_' dictionary. This dictionary allows us to map the 2-grams to their counts, which can be found in the 'oz_counts' array above. Then, we will set our dictionary, 'freq_dict', to the number of counts for each word pair (2-grams). \n",
    "\n",
    "In other words, for every 2-gram and index in our 'vectorizer_pairs.vocabulary_', we will add the 2-gram and the count from the 'oz_counts' array to our 'freq_dict'. "
   ]
  },
  {
   "cell_type": "code",
   "execution_count": 24,
   "metadata": {},
   "outputs": [],
   "source": [
    "freq_dict = {} #empty frequency dictionary\n",
    "for v, i in vectorizer_pairs.vocabulary_.items():\n",
    "    freq_dict[v] = oz_counts[i] #keys = words (v), counts = index (i)"
   ]
  },
  {
   "cell_type": "code",
   "execution_count": 25,
   "metadata": {
    "scrolled": false
   },
   "outputs": [
    {
     "data": {
      "text/plain": [
       "{'splendid palace': 2,\n",
       " 'palace emerald': 2,\n",
       " 'emerald city': 11,\n",
       " 'city center': 1,\n",
       " 'center fairy': 2,\n",
       " 'fairy land': 2,\n",
       " 'land oz': 9,\n",
       " 'oz great': 1,\n",
       " 'great throne': 2,\n",
       " 'throne room': 3}"
      ]
     },
     "execution_count": 25,
     "metadata": {},
     "output_type": "execute_result"
    }
   ],
   "source": [
    "dict(list(freq_dict.items())[0: 10]) #limited output of counts for 2-grams"
   ]
  },
  {
   "cell_type": "markdown",
   "metadata": {},
   "source": [
    "Now, we can create our WordCloud using our 'freq_dict'. "
   ]
  },
  {
   "cell_type": "code",
   "execution_count": 27,
   "metadata": {},
   "outputs": [
    {
     "data": {
      "text/plain": [
       "<matplotlib.image.AxesImage at 0x1e0c70eb248>"
      ]
     },
     "execution_count": 27,
     "metadata": {},
     "output_type": "execute_result"
    },
    {
     "data": {
      "image/png": "[encoded data removed]",
      "text/plain": [
       "<Figure size 432x288 with 1 Axes>"
      ]
     },
     "metadata": {
      "needs_background": "light"
     },
     "output_type": "display_data"
    }
   ],
   "source": [
    "import wordcloud\n",
    "import matplotlib.pyplot as plt\n",
    "wc = wordcloud.WordCloud(background_color =\"white\")\n",
    "plt.imshow(wc.generate_from_frequencies(freq_dict))\n",
    "#Sometimes cell needs to be run twice "
   ]
  },
  {
   "cell_type": "markdown",
   "metadata": {},
   "source": [
    "To find the top phrases for the 2-grams, we can sort our dictionary by its counts (values). We can sort this dictionary by using a specified key parameter (Dalke & Hettinger, n.d.). This can be done by using the the 'operator' module which contains the function 'itemgetter()', where we can specify the key we want to sort on (Dalke & Hettinger, n.d.). "
   ]
  },
  {
   "cell_type": "code",
   "execution_count": 28,
   "metadata": {
    "scrolled": true
   },
   "outputs": [
    {
     "data": {
      "text/plain": [
       "[('tin woodman', 18),\n",
       " ('nome king', 17),\n",
       " ('little wizard', 12),\n",
       " ('emerald city', 11),\n",
       " ('fat baby', 10),\n",
       " ('land oz', 9),\n",
       " ('clockwork man', 9),\n",
       " ('say lion', 8),\n",
       " ('say tiktok', 8),\n",
       " ('princess ozma', 7),\n",
       " ('jack pumpkinhead', 7),\n",
       " ('tin man', 7),\n",
       " ('wizard oz', 6),\n",
       " ('hungry tiger', 6),\n",
       " ('little man', 6),\n",
       " ('little girl', 6),\n",
       " ('cowardly lion', 5),\n",
       " ('eat fat', 5),\n",
       " ('say dorothy', 4),\n",
       " ('wash dish', 4)]"
      ]
     },
     "execution_count": 28,
     "metadata": {},
     "output_type": "execute_result"
    }
   ],
   "source": [
    "from operator import itemgetter\n",
    "sort_bigram = sorted(freq_dict.items(), key=itemgetter(1), reverse = True) #sort by 'counts' in descending order \n",
    "sort_bigram[:20]"
   ]
  },
  {
   "cell_type": "markdown",
   "metadata": {},
   "source": [
    "Thus, we can see the top 20 bigrams in our cleaned Wizard of Oz text. The top few bigrams being 'tin woodman', 'nome king', 'little wizard', and 'emerald city'. "
   ]
  },
  {
   "cell_type": "markdown",
   "metadata": {},
   "source": [
    "#### Zipfian Distribution of 2-grams"
   ]
  },
  {
   "cell_type": "markdown",
   "metadata": {},
   "source": [
    "Zipf's Law \"is an empirical law formulated using mathematical statistics that refers to the fact that many types of data studied in the physical and social sciences can be approximated with a Zipfian distribution, one of a family of related discrete power law probability distributions (Zipf's law, 2020).\" Zipf's law can be easily observed by plotting data on log-log graph where the x-axis is the log of the the rank order and the y-axis is the log of the frequency (Zipf's law, 2020). \n",
    "\n",
    "First, we load the modules needed to create our Zipf plot."
   ]
  },
  {
   "cell_type": "code",
   "execution_count": 29,
   "metadata": {},
   "outputs": [],
   "source": [
    "import numpy as np\n",
    "import matplotlib.pyplot as plt\n",
    "from scipy.stats import zipf"
   ]
  },
  {
   "cell_type": "markdown",
   "metadata": {},
   "source": [
    "We need to create the parameters for our plot. We need the following information:\n",
    "\n",
    "1. The counts for each 2-gram; need to convert to list and then to a numpy array.\n",
    "2. The 2-grams that correspond to each count; need to convert to list.\n",
    "3. The ranks which can be generated using a numpy array with a range of 1 to length of number of counts.\n",
    "4. The order of the words for the ranking.\n",
    "5. The frequencies, which takes the counts of the sorted indices\n",
    "\n",
    "Then, to match up the Zipfian distribution from the equation, we need to normalize the frequencies by dividing the frequencies by the sum of the counts (values) becuase we are getting the probability of that word showing up. "
   ]
  },
  {
   "cell_type": "code",
   "execution_count": 30,
   "metadata": {},
   "outputs": [],
   "source": [
    "values = np.array(list(freq_dict.values())) # (1)\n",
    "words = list(freq_dict.keys()) # (2)\n",
    "ranks = np.arange(1, len(values) + 1) # (3)\n",
    "indices = np.argsort(-values) # (4)\n",
    "frequencies = values[indices] #get counts of sorted indices\n",
    "normalized_frequencies = values[indices]/sum(values) #to match up the Zipfian dist from the equation, need to normalize"
   ]
  },
  {
   "cell_type": "markdown",
   "metadata": {},
   "source": [
    "Now, we can create our plot. "
   ]
  },
  {
   "cell_type": "code",
   "execution_count": 31,
   "metadata": {},
   "outputs": [
    {
     "data": {
      "image/png": "[encoded data removed]",
      "text/plain": [
       "<Figure size 720x720 with 1 Axes>"
      ]
     },
     "metadata": {
      "needs_background": "light"
     },
     "output_type": "display_data"
    }
   ],
   "source": [
    "#create plot\n",
    "\n",
    "plot = plt.figure(figsize=(10,10)) #generate figure for plot and choose size\n",
    "plt.loglog(ranks, normalized_frequencies, marker = \".\") #log-log plot for the ranks and normalized_frequencies\n",
    "\n",
    "#add the expected Zipfian distribution from the equation\n",
    "\n",
    "plt.loglog(ranks, [z for z in zipf.pmf(ranks, 1.07)]) #add Zipfian distribution from equation \n",
    "    #from Zipfian plot example: shows how to create theoretical Zipfian distributions\n",
    "    #pmf = probability mass function gets range of values\n",
    "    \n",
    "#add labels to plots \n",
    "\n",
    "plt.title(\"Zipf Plot of 2-grams in Cleaned Wizard of Oz Text\") #add title\n",
    "plt.xlabel(\"Frequency Rank of Token\") #label x-axis\n",
    "plt.ylabel(\"Absolute Frequency of Token\") #label y-axis\n",
    "\n",
    "plt.grid(True) #add grid lines\n",
    "\n",
    "\n",
    "last_freq = None\n",
    "for n in list(np.logspace(-0.5, np.log10(len(values)), 20).astype(int)):\n",
    "    if last_freq != normalized_frequencies[n]: #check for overlapping words\n",
    "        dummy = plt.text(ranks[n], normalized_frequencies[n], \" \" + words[indices[n]], \n",
    "                 verticalalignment=\"bottom\",\n",
    "                 horizontalalignment=\"left\")\n",
    "    last_freq = normalized_frequencies[n]\n"
   ]
  },
  {
   "cell_type": "markdown",
   "metadata": {},
   "source": [
    "From the output above, the orange line is the theoretical Zipfian distribution which is used for comparison against our actual data. We are getting the probability mass function (pmf) and we give it a range of values which is the 'indices' (ranking). Then we give the pmf a shape parameter, which determines how steep or how flat the line is. This can be any number that is greater than 1, but 1.07 seems to be the best paramter for the shape parameter (Zipf's law, 2020). \n",
    "\n",
    "Labels were then added to clearly identify what the axes represented and a grid was added to clean the plot. Then, using code combined from the Video Walkthrough of Zipf Plots and Arup (2013), we can add our text to the plot and we can also check to ensure that we do not have any overlapping words. \n",
    "\n",
    "As we can see from our plot, the words that have the highest count (words at the top left of the plot) occur less than the words with lower counts. This plot also indicates that there is less repetition in the writing than we would expect from the natural distribution since most values are below the orange line.  "
   ]
  },
  {
   "cell_type": "markdown",
   "metadata": {},
   "source": [
    "### Count 3-Grams"
   ]
  },
  {
   "cell_type": "markdown",
   "metadata": {},
   "source": [
    "We can also count the frequencies of the 3-grams and 4-grams in our text. First, we look at the 3-grams. "
   ]
  },
  {
   "cell_type": "code",
   "execution_count": 32,
   "metadata": {},
   "outputs": [
    {
     "data": {
      "text/plain": [
       "matrix([[1, 1, 1, ..., 1, 1, 1]], dtype=int64)"
      ]
     },
     "execution_count": 32,
     "metadata": {},
     "output_type": "execute_result"
    }
   ],
   "source": [
    "#to get 3-grams\n",
    "vectorizer_three = CountVectorizer(ngram_range=[3,3]) #2-grams\n",
    "three_counts = vectorizer_three.fit_transform([clean_chapters]) #must be a list\n",
    "three_counts.todense()"
   ]
  },
  {
   "cell_type": "markdown",
   "metadata": {},
   "source": [
    "Using similar steps that we used creating our WordCloud above, we can count each 3-gram. First, we need to flatten our matrix. "
   ]
  },
  {
   "cell_type": "code",
   "execution_count": 33,
   "metadata": {},
   "outputs": [
    {
     "data": {
      "text/plain": [
       "array([1, 1, 1, ..., 1, 1, 1], dtype=int64)"
      ]
     },
     "execution_count": 33,
     "metadata": {},
     "output_type": "execute_result"
    }
   ],
   "source": [
    "tri_counts = np.array(three_counts.todense()).flatten() \n",
    "tri_counts #notice single brackets (single dimension)"
   ]
  },
  {
   "cell_type": "markdown",
   "metadata": {},
   "source": [
    "Now, we can use a loop to get the counts of our 3-grams. "
   ]
  },
  {
   "cell_type": "code",
   "execution_count": 34,
   "metadata": {},
   "outputs": [],
   "source": [
    "trigram_counts = {} #empty frequency dictionary\n",
    "for v, i in vectorizer_three.vocabulary_.items():\n",
    "    trigram_counts[v] = tri_counts[i]"
   ]
  },
  {
   "cell_type": "markdown",
   "metadata": {},
   "source": [
    "The 3-grams and the counts of the 3-grams are now in our 'trigram_counts' dictionary. To view the top counts of our 3-grams, we can use an ordered dictionary and the operator module."
   ]
  },
  {
   "cell_type": "code",
   "execution_count": 35,
   "metadata": {},
   "outputs": [
    {
     "data": {
      "text/plain": [
       "[('eat fat baby', 5),\n",
       " ('emerald city oz', 3),\n",
       " ('little wizard oz', 3),\n",
       " ('palace emerald city', 2),\n",
       " ('center fairy land', 2),\n",
       " ('fairy land oz', 2),\n",
       " ('great throne room', 2),\n",
       " ('princess ozma ruler', 2),\n",
       " ('tiktok clockwork man', 2),\n",
       " ('hungry tiger cowardly', 2),\n",
       " ('tiger cowardly lion', 2),\n",
       " ('hungry fat baby', 2),\n",
       " ('tear person piece', 2),\n",
       " ('say lion stand', 2),\n",
       " ('fat baby taste', 2),\n",
       " ('taste like gumdrop', 2),\n",
       " ('dorothy little kansas', 2),\n",
       " ('little kansas girl', 2),\n",
       " ('toto say dorothy', 2),\n",
       " ('live land oz', 2)]"
      ]
     },
     "execution_count": 35,
     "metadata": {},
     "output_type": "execute_result"
    }
   ],
   "source": [
    "sort_trigram = sorted(trigram_counts.items(), key=itemgetter(1), reverse = True) #sort by 'counts' in descending order \n",
    "sort_trigram[:20]"
   ]
  },
  {
   "cell_type": "markdown",
   "metadata": {},
   "source": [
    "### Count 4-Grams"
   ]
  },
  {
   "cell_type": "markdown",
   "metadata": {},
   "source": [
    "Similar to the steps in counting 3-grams, we can find the top counts for the 4-grams in our text. "
   ]
  },
  {
   "cell_type": "code",
   "execution_count": 36,
   "metadata": {},
   "outputs": [],
   "source": [
    "vectorizer_four = CountVectorizer(ngram_range=[4,4]) \n",
    "four_counts = vectorizer_four.fit_transform([clean_chapters])\n",
    "quad_counts = np.array(four_counts.todense()).flatten() "
   ]
  },
  {
   "cell_type": "code",
   "execution_count": 37,
   "metadata": {},
   "outputs": [],
   "source": [
    "fourgram_counts = {} #empty frequency dictionary\n",
    "for v, i in vectorizer_four.vocabulary_.items():\n",
    "    fourgram_counts[v] = quad_counts[i]"
   ]
  },
  {
   "cell_type": "markdown",
   "metadata": {},
   "source": [
    "Now, we can sort our dictionary containing the 4-grams and their counts using the operator module and the sorted() function. "
   ]
  },
  {
   "cell_type": "code",
   "execution_count": 38,
   "metadata": {
    "scrolled": true
   },
   "outputs": [
    {
     "data": {
      "text/plain": [
       "[('center fairy land oz', 2),\n",
       " ('hungry tiger cowardly lion', 2),\n",
       " ('dorothy little kansas girl', 2),\n",
       " ('splendid palace emerald city', 1),\n",
       " ('palace emerald city center', 1),\n",
       " ('emerald city center fairy', 1),\n",
       " ('city center fairy land', 1),\n",
       " ('fairy land oz great', 1),\n",
       " ('land oz great throne', 1),\n",
       " ('oz great throne room', 1),\n",
       " ('great throne room princess', 1),\n",
       " ('throne room princess ozma', 1),\n",
       " ('room princess ozma ruler', 1),\n",
       " ('princess ozma ruler hour', 1),\n",
       " ('ozma ruler hour day', 1),\n",
       " ('ruler hour day sit', 1),\n",
       " ('hour day sit throne', 1),\n",
       " ('day sit throne glisten', 1),\n",
       " ('sit throne glisten emerald', 1),\n",
       " ('throne glisten emerald listen', 1)]"
      ]
     },
     "execution_count": 38,
     "metadata": {},
     "output_type": "execute_result"
    }
   ],
   "source": [
    "sort_fourgram = sorted(fourgram_counts.items(), key=itemgetter(1), reverse = True) #sort by 'counts' in descending order \n",
    "sort_fourgram[:20]"
   ]
  },
  {
   "cell_type": "markdown",
   "metadata": {},
   "source": [
    "Three-grams and 4-grams are not very useful because of the low frequencies of each 3- and 4-gram. "
   ]
  },
  {
   "cell_type": "markdown",
   "metadata": {},
   "source": [
    "As demonstrated above, we cleaned our Wizard of Oz text and performed part of speech tagging, where we found that the most tagged parts of speech were nouns and verbs. Then, we counted 1-gram, 2-grams, 3-grams, and 4-grams using the CountVecorizer in sklearn.feature_extraction.text. We then created a wordcloud of the 2-grams and then plotted the Zipfian distribution of the 2-grams. "
   ]
  },
  {
   "cell_type": "markdown",
   "metadata": {},
   "source": [
    "Resources\n",
    "\n",
    "Arup, F. (2013, October 22). Zipf plot for word counts in Brown corpus. https://finnaarupnielsen.wordpress.com/2013/10/22/zipf-plot-for-word-counts-in-brown-corpus/\n",
    "\n",
    "Dalke, A., & Hettinger, R. (n.d.). Sorting . Retrieved May 16, 2020, from https://docs.python.org/3/howto/sorting.html\n",
    "\n",
    "Forloop—Python wiki. (n.d.). Retrieved May 24, 2020, from https://wiki.python.org/moin/ForLoop\n",
    "\n",
    "Get first N key:value pairs in a dictionary. (n.d.). https://www.geeksforgeeks.org/python-get-first-n-keyvalue-pairs-in-given-dictionary/\n",
    "\n",
    "Kumar, P. (2017, October 21). An introduction to n-grams: What are they and why do we need them? XRDS. https://blog.xrds.acm.org/2017/10/introduction-n-grams-need/\n",
    "\n",
    "Mueller, A. (2020). Wordcloud documentation. https://amueller.github.io/word_cloud/generated/wordcloud.WordCloud.html\n",
    "\n",
    "NumPy Array manipulation. (2020, February 26). W3resource. http://www.w3resource.com/numpy/manipulation/ndarray-flatten.php\n",
    "\n",
    "Part-of-speech tags. (n.d.). https://spacy.io/usage/spacy-101#annotations-pos-deps\n",
    "\n",
    "Python .Value_count()s. (2018, December 24). GeeksforGeeks. https://www.geeksforgeeks.org/python-pandas-index-value_counts/\n",
    "\n",
    "Sklearn. Feature_extraction. (n.d.). Retrieved May 24, 2020, from https://scikit-learn.org/stable/modules/generated/sklearn.feature_extraction.text.CountVectorizer.html\n",
    "\n",
    "Universal POS tags. (n.d.). Retrieved May 24, 2020, from https://universaldependencies.org/docs/u/pos/\n",
    "\n",
    "World Class From the Expert: Week 3\n",
    "\n",
    "Zipf’s law. (2020). In Wikipedia. https://en.wikipedia.org/w/index.php?title=Zipf%27s_law&oldid=955406626"
   ]
  }
 ],
 "metadata": {
  "kernelspec": {
   "display_name": "Python 3",
   "language": "python",
   "name": "python3"
  },
  "language_info": {
   "codemirror_mode": {
    "name": "ipython",
    "version": 3
   },
   "file_extension": ".py",
   "mimetype": "text/x-python",
   "name": "python",
   "nbconvert_exporter": "python",
   "pygments_lexer": "ipython3",
   "version": "3.7.4"
  }
 },
 "nbformat": 4,
 "nbformat_minor": 2
}
