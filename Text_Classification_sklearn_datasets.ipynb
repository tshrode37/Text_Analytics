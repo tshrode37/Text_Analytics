{
 "cells": [
  {
   "cell_type": "markdown",
   "metadata": {},
   "source": [
    "# Text Classification"
   ]
  },
  {
   "cell_type": "markdown",
   "metadata": {},
   "source": [
    "The goal for this week's assignment is to train a machine learning classifier on the categories in our train set, and then evaluate the model on the test set. We will be using the 20 Newsgroups dataset in 'sklearn.datasets' to practice text classification. In other words, we will classify the forum posts from the datasets into the forums they belong to (e.g. sports, autos, etc.). The 20 Newsgroups dataset contains 18,846 newsgroups posts on 20 topics which have been split into a training set and a testing set (scikit-dataset)."
   ]
  },
  {
   "cell_type": "markdown",
   "metadata": {},
   "source": [
    "## Load 20 newsgroups dataset from sklearn"
   ]
  },
  {
   "cell_type": "markdown",
   "metadata": {},
   "source": [
    "First, we need to obtain the 20 Newsgroups dataset from 'sklearn.datasets'."
   ]
  },
  {
   "cell_type": "code",
   "execution_count": 1,
   "metadata": {},
   "outputs": [],
   "source": [
    "from sklearn.datasets import fetch_20newsgroups"
   ]
  },
  {
   "cell_type": "markdown",
   "metadata": {},
   "source": [
    "The module above loads a list of the raw texts (Dataset loading ultilities, n.d.). Now that we have access to the raw text, we can remove 'headers', 'footers', and 'quotes' from our dataset using the argument 'remove'. Leaving the 'headers', 'footers', and 'quotes' in the dataset makes it easy to \"guess\" the categories. 'Headers' refer to the the newsgroup headers, 'footers' refer to the blocks at the end of posts that look like signatures, and 'quotes' refer to the the lines that appear to be quoting other posts (Dataset loading ultilities, n.d.). We can then subset the 20 newsgroups data set by adding the argument subset = 'train' or 'test'. "
   ]
  },
  {
   "cell_type": "code",
   "execution_count": 2,
   "metadata": {},
   "outputs": [],
   "source": [
    "newsgroups_train = fetch_20newsgroups(subset='train', remove=('headers', 'footers', 'quotes'))\n",
    "newsgroups_test = fetch_20newsgroups(subset='test', remove=('headers', 'footers', 'quotes'))"
   ]
  },
  {
   "cell_type": "markdown",
   "metadata": {},
   "source": [
    "The data for the 20 newsgroups dataset is now stored in two different subsets in a key-value dictionary like object: a training set and a testing set (Dataset loading ultilities, n.d.)."
   ]
  },
  {
   "cell_type": "markdown",
   "metadata": {},
   "source": [
    "### View Training Dataset (newsgroups_train)"
   ]
  },
  {
   "cell_type": "code",
   "execution_count": 3,
   "metadata": {},
   "outputs": [
    {
     "data": {
      "text/plain": [
       "dict_keys(['data', 'filenames', 'target_names', 'target', 'DESCR'])"
      ]
     },
     "execution_count": 3,
     "metadata": {},
     "output_type": "execute_result"
    }
   ],
   "source": [
    "newsgroups_train.keys()"
   ]
  },
  {
   "cell_type": "markdown",
   "metadata": {},
   "source": [
    "The keys of the our dataset (Dataset loading ultilities, n.d.):\n",
    "\n",
    "1. data: newsgroups documents stored in a list.\n",
    "2. filenames: path to the location of the data stored in a list.\n",
    "3. target_names: names of the target classes stored in a list.\n",
    "4. target: target labels stored in an array.\n",
    "5. DESCR: full description of the dataset stored as a string.\n",
    "\n",
    " We can view these keys by using the function .data/filenames/target_names/target/DESCR function. "
   ]
  },
  {
   "cell_type": "code",
   "execution_count": 4,
   "metadata": {},
   "outputs": [
    {
     "data": {
      "text/plain": [
       "array(['C:\\\\Users\\\\07hoc\\\\scikit_learn_data\\\\20news_home\\\\20news-bydate-train\\\\rec.autos\\\\102994',\n",
       "       'C:\\\\Users\\\\07hoc\\\\scikit_learn_data\\\\20news_home\\\\20news-bydate-train\\\\comp.sys.mac.hardware\\\\51861',\n",
       "       'C:\\\\Users\\\\07hoc\\\\scikit_learn_data\\\\20news_home\\\\20news-bydate-train\\\\comp.sys.mac.hardware\\\\51879',\n",
       "       ...,\n",
       "       'C:\\\\Users\\\\07hoc\\\\scikit_learn_data\\\\20news_home\\\\20news-bydate-train\\\\comp.sys.ibm.pc.hardware\\\\60695',\n",
       "       'C:\\\\Users\\\\07hoc\\\\scikit_learn_data\\\\20news_home\\\\20news-bydate-train\\\\comp.graphics\\\\38319',\n",
       "       'C:\\\\Users\\\\07hoc\\\\scikit_learn_data\\\\20news_home\\\\20news-bydate-train\\\\rec.motorcycles\\\\104440'],\n",
       "      dtype='<U95')"
      ]
     },
     "execution_count": 4,
     "metadata": {},
     "output_type": "execute_result"
    }
   ],
   "source": [
    "newsgroups_train.filenames #view filenames"
   ]
  },
  {
   "cell_type": "code",
   "execution_count": 6,
   "metadata": {},
   "outputs": [
    {
     "data": {
      "text/plain": [
       "(20,\n",
       " ['alt.atheism',\n",
       "  'comp.graphics',\n",
       "  'comp.os.ms-windows.misc',\n",
       "  'comp.sys.ibm.pc.hardware',\n",
       "  'comp.sys.mac.hardware',\n",
       "  'comp.windows.x',\n",
       "  'misc.forsale',\n",
       "  'rec.autos',\n",
       "  'rec.motorcycles',\n",
       "  'rec.sport.baseball',\n",
       "  'rec.sport.hockey',\n",
       "  'sci.crypt',\n",
       "  'sci.electronics',\n",
       "  'sci.med',\n",
       "  'sci.space',\n",
       "  'soc.religion.christian',\n",
       "  'talk.politics.guns',\n",
       "  'talk.politics.mideast',\n",
       "  'talk.politics.misc',\n",
       "  'talk.religion.misc'])"
      ]
     },
     "execution_count": 6,
     "metadata": {},
     "output_type": "execute_result"
    }
   ],
   "source": [
    "len(newsgroups_train.target_names), newsgroups_train.target_names\n",
    "#count total target names and view target names"
   ]
  },
  {
   "cell_type": "code",
   "execution_count": 7,
   "metadata": {},
   "outputs": [
    {
     "data": {
      "text/plain": [
       "array([7, 4, 4, ..., 3, 1, 8])"
      ]
     },
     "execution_count": 7,
     "metadata": {},
     "output_type": "execute_result"
    }
   ],
   "source": [
    "newsgroups_train.target #view target labels"
   ]
  },
  {
   "cell_type": "markdown",
   "metadata": {},
   "source": [
    "The target key corresponds to a newsgroup but, as we can see above, is an integer. We can also see duplicate labels. To find the distinct values for the integers (labels), we can use the .unique() function in the NumPy module.  "
   ]
  },
  {
   "cell_type": "code",
   "execution_count": 9,
   "metadata": {},
   "outputs": [
    {
     "data": {
      "text/plain": [
       "array([ 0,  1,  2,  3,  4,  5,  6,  7,  8,  9, 10, 11, 12, 13, 14, 15, 16,\n",
       "       17, 18, 19])"
      ]
     },
     "execution_count": 9,
     "metadata": {},
     "output_type": "execute_result"
    }
   ],
   "source": [
    "import numpy as np\n",
    "np.unique(newsgroups_train.target)"
   ]
  },
  {
   "cell_type": "markdown",
   "metadata": {},
   "source": [
    "Further, we can get the frequency counts of each of the unique values in our NumPy array by using the return_counts argument in our unique() function (Varun, n.d.). "
   ]
  },
  {
   "cell_type": "code",
   "execution_count": 13,
   "metadata": {},
   "outputs": [
    {
     "name": "stdout",
     "output_type": "stream",
     "text": [
      "The target labels are: [ 0  1  2  3  4  5  6  7  8  9 10 11 12 13 14 15 16 17 18 19] \n",
      "\n",
      "The counts for the target labels are: [480 584 591 590 578 593 585 594 598 597 600 595 591 594 593 599 546 564\n",
      " 465 377]\n"
     ]
    }
   ],
   "source": [
    "values, counts = np.unique(newsgroups_train.target, return_counts=True)\n",
    "print('The target labels are:', values, '\\n')\n",
    "print('The counts for the target labels are:', counts)"
   ]
  },
  {
   "cell_type": "markdown",
   "metadata": {},
   "source": [
    "Similar to the number of target classes, we see that there are 20 target labels.\n",
    "\n",
    "We can plot the counts for each label using matplotlib. We use the plt.xticks() function to rotate the labels on the x-axis. (Rotate axis text in python matplotlib, n.d.)."
   ]
  },
  {
   "cell_type": "code",
   "execution_count": 15,
   "metadata": {},
   "outputs": [
    {
     "data": {
      "image/png": "[encoded data removed]",
      "text/plain": [
       "<Figure size 432x432 with 1 Axes>"
      ]
     },
     "metadata": {
      "needs_background": "light"
     },
     "output_type": "display_data"
    }
   ],
   "source": [
    "import matplotlib.pyplot as plt\n",
    "plot = plt.figure(figsize=(6,6))\n",
    "\n",
    "plt.bar(newsgroups_train.target_names, counts)\n",
    "plt.xticks(rotation=90)\n",
    "plt.xlabel('Target Classed')\n",
    "plt.ylabel = ('Frequency Counts')\n",
    "plt.title('Distribution of Target Classes in newsgroups_train')\n",
    "\n",
    "plt.show()\n",
    "\n",
    "#sometime cell needs to be run twice"
   ]
  },
  {
   "cell_type": "markdown",
   "metadata": {},
   "source": [
    "Now, the .data parameter alone could possibly crash our computer because of the amount of data contained in this key. In lieu of this, we can view each document in the 'data' key separately. If we want to look at the first document in our newsgroups_train dataset, we can execute the following command:"
   ]
  },
  {
   "cell_type": "code",
   "execution_count": 16,
   "metadata": {
    "scrolled": true
   },
   "outputs": [
    {
     "data": {
      "text/plain": [
       "'I was wondering if anyone out there could enlighten me on this car I saw\\nthe other day. It was a 2-door sports car, looked to be from the late 60s/\\nearly 70s. It was called a Bricklin. The doors were really small. In addition,\\nthe front bumper was separate from the rest of the body. This is \\nall I know. If anyone can tellme a model name, engine specs, years\\nof production, where this car is made, history, or whatever info you\\nhave on this funky looking car, please e-mail.'"
      ]
     },
     "execution_count": 16,
     "metadata": {},
     "output_type": "execute_result"
    }
   ],
   "source": [
    "newsgroups_train['data'][0]"
   ]
  },
  {
   "cell_type": "markdown",
   "metadata": {},
   "source": [
    "After reading the first document, we can assume that this post is about cars. Specifically, we 2-door sports car called a Bricklin. We can make this assumption based the presence of key words like 'car', 'engine', and 'bumper'. \n",
    "\n",
    "To determine how many documents are in our training set, we can use the len() function.  "
   ]
  },
  {
   "cell_type": "code",
   "execution_count": 17,
   "metadata": {},
   "outputs": [
    {
     "data": {
      "text/plain": [
       "11314"
      ]
     },
     "execution_count": 17,
     "metadata": {},
     "output_type": "execute_result"
    }
   ],
   "source": [
    "len(newsgroups_train['data'])"
   ]
  },
  {
   "cell_type": "markdown",
   "metadata": {},
   "source": [
    "To determine the label associated with the first document, we can use the following command: "
   ]
  },
  {
   "cell_type": "code",
   "execution_count": 18,
   "metadata": {},
   "outputs": [
    {
     "data": {
      "text/plain": [
       "7"
      ]
     },
     "execution_count": 18,
     "metadata": {},
     "output_type": "execute_result"
    }
   ],
   "source": [
    "newsgroups_train['target'][0]"
   ]
  },
  {
   "cell_type": "markdown",
   "metadata": {},
   "source": [
    "Using the integer above, we can determine which target name this label belongs to."
   ]
  },
  {
   "cell_type": "code",
   "execution_count": 19,
   "metadata": {},
   "outputs": [
    {
     "data": {
      "text/plain": [
       "'rec.autos'"
      ]
     },
     "execution_count": 19,
     "metadata": {},
     "output_type": "execute_result"
    }
   ],
   "source": [
    "newsgroups_train['target_names'][7]"
   ]
  },
  {
   "cell_type": "markdown",
   "metadata": {},
   "source": [
    "We can see that the first document in our newsgroups_train dataset belongs to the target class 'rec.autos', which we had assumed above."
   ]
  },
  {
   "cell_type": "markdown",
   "metadata": {},
   "source": [
    "### View Testing Dataset (newsgroups_test)"
   ]
  },
  {
   "cell_type": "markdown",
   "metadata": {},
   "source": [
    "We can use the same commands on our test set as we did on the training set. To get the keys of our test dataset, we can use the .keys() function"
   ]
  },
  {
   "cell_type": "code",
   "execution_count": 20,
   "metadata": {
    "scrolled": true
   },
   "outputs": [
    {
     "data": {
      "text/plain": [
       "dict_keys(['data', 'filenames', 'target_names', 'target', 'DESCR'])"
      ]
     },
     "execution_count": 20,
     "metadata": {},
     "output_type": "execute_result"
    }
   ],
   "source": [
    "newsgroups_test.keys()"
   ]
  },
  {
   "cell_type": "code",
   "execution_count": 21,
   "metadata": {},
   "outputs": [
    {
     "data": {
      "text/plain": [
       "['alt.atheism',\n",
       " 'comp.graphics',\n",
       " 'comp.os.ms-windows.misc',\n",
       " 'comp.sys.ibm.pc.hardware',\n",
       " 'comp.sys.mac.hardware',\n",
       " 'comp.windows.x',\n",
       " 'misc.forsale',\n",
       " 'rec.autos',\n",
       " 'rec.motorcycles',\n",
       " 'rec.sport.baseball',\n",
       " 'rec.sport.hockey',\n",
       " 'sci.crypt',\n",
       " 'sci.electronics',\n",
       " 'sci.med',\n",
       " 'sci.space',\n",
       " 'soc.religion.christian',\n",
       " 'talk.politics.guns',\n",
       " 'talk.politics.mideast',\n",
       " 'talk.politics.misc',\n",
       " 'talk.religion.misc']"
      ]
     },
     "execution_count": 21,
     "metadata": {},
     "output_type": "execute_result"
    }
   ],
   "source": [
    "newsgroups_test.target_names"
   ]
  },
  {
   "cell_type": "markdown",
   "metadata": {},
   "source": [
    "We can see that keys and the target classes for the testing set are the same as the ones in our training set. To view the first document in our training set, we can use similar commands as above. "
   ]
  },
  {
   "cell_type": "code",
   "execution_count": 22,
   "metadata": {},
   "outputs": [
    {
     "data": {
      "text/plain": [
       "'I am a little confused on all of the models of the 88-89 bonnevilles.\\nI have heard of the LE SE LSE SSE SSEI. Could someone tell me the\\ndifferences are far as features or performance. I am also curious to\\nknow what the book value is for prefereably the 89 model. And how much\\nless than book value can you usually get them for. In other words how\\nmuch are they in demand this time of year. I have heard that the mid-spring\\nearly summer is the best time to buy.'"
      ]
     },
     "execution_count": 22,
     "metadata": {},
     "output_type": "execute_result"
    }
   ],
   "source": [
    "newsgroups_test['data'][0] #first article from 'data'"
   ]
  },
  {
   "cell_type": "markdown",
   "metadata": {},
   "source": [
    "Reading the article above, we can assume that the post is discussing cars. In particular, the the author of the post is wanting to know the book value of the '89 Bonneville model."
   ]
  },
  {
   "cell_type": "code",
   "execution_count": 23,
   "metadata": {},
   "outputs": [
    {
     "data": {
      "text/plain": [
       "7"
      ]
     },
     "execution_count": 23,
     "metadata": {},
     "output_type": "execute_result"
    }
   ],
   "source": [
    "newsgroups_test['target'][0] #get the labels from the 'target' attribute"
   ]
  },
  {
   "cell_type": "code",
   "execution_count": 24,
   "metadata": {},
   "outputs": [
    {
     "data": {
      "text/plain": [
       "'rec.autos'"
      ]
     },
     "execution_count": 24,
     "metadata": {},
     "output_type": "execute_result"
    }
   ],
   "source": [
    "#to get the 7th 'target'\n",
    "newsgroups_test['target_names'][7]"
   ]
  },
  {
   "cell_type": "markdown",
   "metadata": {},
   "source": [
    "The first document in our testing set also belongs to the 'rec.auto' class. \n",
    "\n",
    "Notice, that the number of documents in our train data and testing data are different. The training set contains 11,314 documents, while the testing set contains 7,532 documents. "
   ]
  },
  {
   "cell_type": "code",
   "execution_count": 25,
   "metadata": {},
   "outputs": [
    {
     "data": {
      "text/plain": [
       "7532"
      ]
     },
     "execution_count": 25,
     "metadata": {},
     "output_type": "execute_result"
    }
   ],
   "source": [
    "len(newsgroups_test['data'])"
   ]
  },
  {
   "cell_type": "markdown",
   "metadata": {},
   "source": [
    "## Visualization for Number of Articles in each Category for Full 20 Newsgroups Dataset"
   ]
  },
  {
   "cell_type": "markdown",
   "metadata": {},
   "source": [
    "We can determine the number of documents/articles that belong to each category/target class by loading the full 20 Newsgroups Dataset."
   ]
  },
  {
   "cell_type": "code",
   "execution_count": 26,
   "metadata": {},
   "outputs": [],
   "source": [
    "newsgroups_full = fetch_20newsgroups(subset='all', remove=('headers', 'footers', 'quotes'))"
   ]
  },
  {
   "cell_type": "markdown",
   "metadata": {},
   "source": [
    "This allows us to avoid having to loop through the training and testing set separately.\n",
    "\n",
    "Note: One way to confirm that we subset the train and test sets correctly is to compare the number of documents in the full dataset and the number of documents of the train and test set combined. "
   ]
  },
  {
   "cell_type": "code",
   "execution_count": 27,
   "metadata": {},
   "outputs": [
    {
     "name": "stdout",
     "output_type": "stream",
     "text": [
      "Number of Documents in Full Dataset: 18846\n",
      "Number of Documents in Train Set + Test Set: 18846\n"
     ]
    }
   ],
   "source": [
    "print('Number of Documents in Full Dataset:', len(newsgroups_full['data']))\n",
    "print('Number of Documents in Train Set + Test Set:', len(newsgroups_train['data']) + len(newsgroups_test['data']))"
   ]
  },
  {
   "cell_type": "markdown",
   "metadata": {},
   "source": [
    "Now, in order to determine the number of articles that are in each of our target classes, we first need to loop through the 'data' key in our newsgroups_full dataset. Recall, the 'data' key contains the documents of the dataset and each document is associated with an index number (first document has an index of [0]). Then, to determine the target class, we had to get the target label and then we could determine the target class. \n",
    "\n",
    "To loop through the 'data' key, we can use the built-in enumerate() function, which returns a tuple containing a count/index (which starts at 0) and the values for each count (Built-in Functions, n.d.). This method allows us to obtain the index and the document. Then, we can use the index to get the target label. Using the target label, and then we can get the target name associated with each document. Finally, we can add each target name to a list."
   ]
  },
  {
   "cell_type": "code",
   "execution_count": 28,
   "metadata": {
    "scrolled": true
   },
   "outputs": [],
   "source": [
    "target_list = []\n",
    "\n",
    "for i, v in enumerate(newsgroups_full['data']): #loop through index and values in 'data'\n",
    "    target_label = newsgroups_full['target'][i] #get label of data article\n",
    "    target_name = newsgroups_full['target_names'][target_label] #get the target name from label\n",
    "    target_list.append(target_name) #append to list"
   ]
  },
  {
   "cell_type": "markdown",
   "metadata": {},
   "source": [
    "Now that we have a list that contains every target name in our newsgroups_full dataset, we can count the occurrences of each target name. One method to do this is to loop through our list that contains all the target names (target_list), and then we can use the built-in .count() function to count frequency of each target name. We then store this information in a dictionary, which stores our data as a key (target name)- value (target name count) pair. "
   ]
  },
  {
   "cell_type": "code",
   "execution_count": 29,
   "metadata": {},
   "outputs": [],
   "source": [
    "freq_dict = {}\n",
    "\n",
    "for x in target_list: #loop through list elements\n",
    "    freq_dict[x] = target_list.count(x) #append element and the count to dictionary"
   ]
  },
  {
   "cell_type": "markdown",
   "metadata": {},
   "source": [
    "Our dictionary now contains each target name and the frequency of each."
   ]
  },
  {
   "cell_type": "code",
   "execution_count": 30,
   "metadata": {},
   "outputs": [
    {
     "data": {
      "text/plain": [
       "{'rec.sport.hockey': 999,\n",
       " 'comp.sys.ibm.pc.hardware': 982,\n",
       " 'talk.politics.mideast': 940,\n",
       " 'comp.sys.mac.hardware': 963,\n",
       " 'sci.electronics': 984,\n",
       " 'talk.religion.misc': 628,\n",
       " 'sci.crypt': 991,\n",
       " 'sci.med': 990,\n",
       " 'alt.atheism': 799,\n",
       " 'rec.motorcycles': 996,\n",
       " 'rec.autos': 990,\n",
       " 'comp.windows.x': 988,\n",
       " 'comp.graphics': 973,\n",
       " 'sci.space': 987,\n",
       " 'talk.politics.guns': 910,\n",
       " 'misc.forsale': 975,\n",
       " 'rec.sport.baseball': 994,\n",
       " 'talk.politics.misc': 775,\n",
       " 'comp.os.ms-windows.misc': 985,\n",
       " 'soc.religion.christian': 997}"
      ]
     },
     "execution_count": 30,
     "metadata": {},
     "output_type": "execute_result"
    }
   ],
   "source": [
    "freq_dict"
   ]
  },
  {
   "cell_type": "markdown",
   "metadata": {},
   "source": [
    "To confirm our dictionary is complete, we can compare the number of documents in our newsgroups_full dataset, the number of elements in our target_list, and the sum of our freq_dict values. "
   ]
  },
  {
   "cell_type": "code",
   "execution_count": 26,
   "metadata": {
    "scrolled": true
   },
   "outputs": [
    {
     "data": {
      "text/plain": [
       "(18846, 18846, 18846)"
      ]
     },
     "execution_count": 26,
     "metadata": {},
     "output_type": "execute_result"
    }
   ],
   "source": [
    "len(newsgroups_full['data']), len(target_list), sum(freq_dict.values())"
   ]
  },
  {
   "cell_type": "markdown",
   "metadata": {},
   "source": [
    "We can plot these frequencies using a matplotlib plot. First, we will sort our dictionary (freq_dict) in descending order to we can easily identify the most and least occurring target name. This can be done by using the 'itemgetter' argument in the operator module."
   ]
  },
  {
   "cell_type": "code",
   "execution_count": 31,
   "metadata": {
    "scrolled": true
   },
   "outputs": [
    {
     "data": {
      "text/plain": [
       "{'talk.religion.misc': 628,\n",
       " 'talk.politics.misc': 775,\n",
       " 'alt.atheism': 799,\n",
       " 'talk.politics.guns': 910,\n",
       " 'talk.politics.mideast': 940,\n",
       " 'comp.sys.mac.hardware': 963,\n",
       " 'comp.graphics': 973,\n",
       " 'misc.forsale': 975,\n",
       " 'comp.sys.ibm.pc.hardware': 982,\n",
       " 'sci.electronics': 984,\n",
       " 'comp.os.ms-windows.misc': 985,\n",
       " 'sci.space': 987,\n",
       " 'comp.windows.x': 988,\n",
       " 'sci.med': 990,\n",
       " 'rec.autos': 990,\n",
       " 'sci.crypt': 991,\n",
       " 'rec.sport.baseball': 994,\n",
       " 'rec.motorcycles': 996,\n",
       " 'soc.religion.christian': 997,\n",
       " 'rec.sport.hockey': 999}"
      ]
     },
     "execution_count": 31,
     "metadata": {},
     "output_type": "execute_result"
    }
   ],
   "source": [
    "from operator import itemgetter\n",
    "sorted_freq_dict = dict(sorted(freq_dict.items(), key=itemgetter(1)))\n",
    "sorted_freq_dict"
   ]
  },
  {
   "cell_type": "markdown",
   "metadata": {},
   "source": [
    "Now, we can use our sorted dictionary in our matplotlib plot. Note, that the x-axis labels were rotated 90 degrees to aid in readability (Rotate axis text in python matplotlib, n.d.). "
   ]
  },
  {
   "cell_type": "code",
   "execution_count": 32,
   "metadata": {},
   "outputs": [
    {
     "data": {
      "image/png": "[encoded data removed]",
      "text/plain": [
       "<Figure size 504x432 with 1 Axes>"
      ]
     },
     "metadata": {
      "needs_background": "light"
     },
     "output_type": "display_data"
    }
   ],
   "source": [
    "import matplotlib.pyplot as plt\n",
    "plot = plt.figure(figsize=(7,6))\n",
    "\n",
    "plt.bar(sorted_freq_dict.keys(), sorted_freq_dict.values())\n",
    "plt.xticks(rotation=90)\n",
    "plt.xlabel('Target Classes')\n",
    "plt.ylabel = ('Frequency Counts')\n",
    "plt.title('Distribution of Target Classes of Full 20 Newsgroups Dataset')\n",
    "\n",
    "plt.show()"
   ]
  },
  {
   "cell_type": "markdown",
   "metadata": {},
   "source": [
    "We can easily see that the least occurring target name is talk.religion.misc and the most occurring target name is rec.sport.hockey. "
   ]
  },
  {
   "cell_type": "markdown",
   "metadata": {},
   "source": [
    "## WordCloud for Words in rec.sport.hockey Target Class"
   ]
  },
  {
   "cell_type": "markdown",
   "metadata": {},
   "source": [
    "Now that we have determined that the highest occurring target name is rec.sport.hockey, we can determine the highest occurring words in the documents with the rec.sports.hockey label. We can do this by creating a WordCloud. Recall, a WordCloud is a technique used to visualize text data where the size of each word represents the frequency of the word (Kadam, 2019).\n",
    "\n",
    "To get the documents with this label, we will use a loop and the same enumerate() function that we did above. We will still need to get the target labels and the target names, but this time we will append to a list where the target name is 'rec.sport.hockey'. "
   ]
  },
  {
   "cell_type": "code",
   "execution_count": 33,
   "metadata": {},
   "outputs": [],
   "source": [
    "hockey_list = []\n",
    "\n",
    "for i, v in enumerate(newsgroups_full['data']): #loop through index and values in 'data'\n",
    "    target_label = newsgroups_full['target'][i] #get label of data article\n",
    "    target_name = newsgroups_full['target_names'][target_label] #get the target name for label\n",
    "    if target_name == 'rec.sport.hockey':\n",
    "        hockey_list.append(v)"
   ]
  },
  {
   "cell_type": "markdown",
   "metadata": {},
   "source": [
    "To ensure we got all the documents with the label rec.sport.hockey, we can compare the number of documents in our hockey_list with the count in our freq_dict above, which are equal. "
   ]
  },
  {
   "cell_type": "code",
   "execution_count": 34,
   "metadata": {},
   "outputs": [
    {
     "name": "stdout",
     "output_type": "stream",
     "text": [
      "There are 999 documents in the hockey_list.\n",
      "\n",
      "The first document is: \n",
      "\n",
      "I am sure some bashers of Pens fans are pretty confused about the lack\n",
      "of any kind of posts about the recent Pens massacre of the Devils. Actually,\n",
      "I am  bit puzzled too and a bit relieved. However, I am going to put an end\n",
      "to non-PIttsburghers' relief with a bit of praise for the Pens. Man, they\n",
      "are killing those Devils worse than I thought. Jagr just showed you why\n",
      "he is much better than his regular season stats. He is also a lot\n",
      "fo fun to watch in the playoffs. Bowman should let JAgr have a lot of\n",
      "fun in the next couple of games since the Pens are going to beat the pulp out of Jersey anyway. I was very disappointed not to see the Islanders lose the final\n",
      "regular season game.          PENS RULE!!!\n",
      "\n",
      "\n"
     ]
    }
   ],
   "source": [
    "print('There are ' + str(len(hockey_list)) + ' documents in the hockey_list.\\n'),\n",
    "print('The first document is: ' + hockey_list[0]) "
   ]
  },
  {
   "cell_type": "markdown",
   "metadata": {},
   "source": [
    "Before we create our WordCloud, we need to clean our text. This means we lower case words, remove punctuation, remove stop words, stem/lemmatize words, etc. We can use our text cleaning function from Week 1 to do this. "
   ]
  },
  {
   "cell_type": "code",
   "execution_count": 35,
   "metadata": {},
   "outputs": [],
   "source": [
    "import spacy\n",
    "nlp = spacy.load('en_core_web_lg')"
   ]
  },
  {
   "cell_type": "code",
   "execution_count": 36,
   "metadata": {},
   "outputs": [],
   "source": [
    "def clean_text(text):\n",
    "    nlp_text = nlp(text)\n",
    "    lemmas = []\n",
    "    for word in nlp_text:\n",
    "        if word.is_stop: \n",
    "            continue \n",
    "        if not word.is_alpha: \n",
    "            continue\n",
    "        if word.lemma_ == '-PRON-':\n",
    "            lemmas.append(word.lower_) \n",
    "        else:\n",
    "            lemmas.append(word.lemma_)\n",
    "            \n",
    "    return ' '.join(lemmas)"
   ]
  },
  {
   "cell_type": "markdown",
   "metadata": {},
   "source": [
    "Now, recall that to be able to use our text cleaning function, we need to convert our list to a string so SpaCy and NLP can process the text."
   ]
  },
  {
   "cell_type": "code",
   "execution_count": 37,
   "metadata": {},
   "outputs": [
    {
     "data": {
      "text/plain": [
       "1125628"
      ]
     },
     "execution_count": 37,
     "metadata": {},
     "output_type": "execute_result"
    }
   ],
   "source": [
    "str_hockey = ' '.join(hockey_list)\n",
    "len(str_hockey)"
   ]
  },
  {
   "cell_type": "markdown",
   "metadata": {},
   "source": [
    "Unfortunately, when trying to apply our clean_text function to our str_hockey (variable storing the string version of our hockey_list), we received an error that the \"text of length 1125628 exceeds maximum of 1000000. The v2.x parser and NER models require roughly 1GB of temporary memory per 100,000 characters in the input. This means long texts may cause memory allocation errors. [...].\" \n",
    "\n",
    "Thus, we will only use the first 500 documents in our hockey_list. "
   ]
  },
  {
   "cell_type": "code",
   "execution_count": 38,
   "metadata": {},
   "outputs": [],
   "source": [
    "str_hockey = ' '.join(hockey_list[0:499])\n",
    "clean_hockey = clean_text(str_hockey)"
   ]
  },
  {
   "cell_type": "code",
   "execution_count": 39,
   "metadata": {},
   "outputs": [
    {
     "data": {
      "text/plain": [
       "'sure basher pen fan pretty confused lack kind post recent Pens massacre Devils actually bit puzzled bit relieved go end non pittsburgher relief bit praise Pens man kill Devils bad think Jagr show well regular season stat lot fo fun watch playoff Bowman let JAgr lot fun couple game Pens go beat pulp Jersey disappointed Islanders lose final regular season game pen RULE stuff delete ok solution problem Canada yesterday able watch game NJ PITT ABC LA CAL CBC BUFF BOS TSN FOX MON QUE CBC think series'"
      ]
     },
     "execution_count": 39,
     "metadata": {},
     "output_type": "execute_result"
    }
   ],
   "source": [
    "clean_hockey[0:500]"
   ]
  },
  {
   "cell_type": "markdown",
   "metadata": {},
   "source": [
    "For this WordCloud, we will be applying a mask, which means we will display our WordCloud in some sort of shape. We can do this by loading a PNG file into our environment and apply this image to our WordCloud as a mask (Vu, 2019). For this mask, we will using a mask found: http://clipart-library.com/clip-art/field-hockey-player-silhouette-11.htm. "
   ]
  },
  {
   "cell_type": "code",
   "execution_count": 40,
   "metadata": {},
   "outputs": [],
   "source": [
    "import numpy as np\n",
    "from PIL import Image"
   ]
  },
  {
   "cell_type": "code",
   "execution_count": 41,
   "metadata": {},
   "outputs": [
    {
     "data": {
      "text/plain": [
       "array([[0, 0, 0, ..., 0, 0, 0],\n",
       "       [0, 0, 0, ..., 0, 0, 0],\n",
       "       [0, 0, 0, ..., 0, 0, 0],\n",
       "       ...,\n",
       "       [0, 0, 0, ..., 0, 0, 0],\n",
       "       [0, 0, 0, ..., 0, 0, 0],\n",
       "       [0, 0, 0, ..., 0, 0, 0]], dtype=uint8)"
      ]
     },
     "execution_count": 41,
     "metadata": {},
     "output_type": "execute_result"
    }
   ],
   "source": [
    "hockey_mask = np.array(Image.open('C:/Users/07hoc/Downloads/MSDS 682 Downloads/Week 4/hockey.png')) \n",
    "hockey_mask"
   ]
  },
  {
   "cell_type": "markdown",
   "metadata": {},
   "source": [
    "In order to use mask our WordCloud, the 0's in our array should be 255 (Vu, 2019). This represents the intensity of the pixels for the \"white part\" of the image. We can transform the format of our mask by using a function or replacing the values in the array."
   ]
  },
  {
   "cell_type": "code",
   "execution_count": 42,
   "metadata": {},
   "outputs": [
    {
     "data": {
      "text/plain": [
       "array([[255, 255, 255, ..., 255, 255, 255],\n",
       "       [255, 255, 255, ..., 255, 255, 255],\n",
       "       [255, 255, 255, ..., 255, 255, 255],\n",
       "       ...,\n",
       "       [255, 255, 255, ..., 255, 255, 255],\n",
       "       [255, 255, 255, ..., 255, 255, 255],\n",
       "       [255, 255, 255, ..., 255, 255, 255]], dtype=uint8)"
      ]
     },
     "execution_count": 42,
     "metadata": {},
     "output_type": "execute_result"
    }
   ],
   "source": [
    "#(Replace elements of a matrix using numpy in python, 2019))\n",
    "hockey_mask[hockey_mask <= 0] = 255 \n",
    "hockey_mask"
   ]
  },
  {
   "cell_type": "markdown",
   "metadata": {},
   "source": [
    "We can now build our masked WordCloud by utilizing the 'mask' argument for WordCloud. "
   ]
  },
  {
   "cell_type": "code",
   "execution_count": 43,
   "metadata": {},
   "outputs": [
    {
     "data": {
      "image/png": "[encoded data removed]",
      "text/plain": [
       "<Figure size 360x360 with 1 Axes>"
      ]
     },
     "metadata": {
      "needs_background": "light"
     },
     "output_type": "display_data"
    }
   ],
   "source": [
    "from wordcloud import WordCloud\n",
    "#generate a word cloud image \n",
    "\n",
    "fig_mask = plt.figure(figsize=(5, 5))\n",
    "wordcloud_mask = WordCloud(width=500, height=500, mask=hockey_mask, background_color =\"white\", contour_width = 0.5, contour_color='green', max_font_size=40).generate(clean_hockey)\n",
    "\n",
    "plt.imshow(wordcloud_mask, interpolation='bilinear')\n",
    "_ = plt.axis(\"off\")"
   ]
  },
  {
   "cell_type": "markdown",
   "metadata": {},
   "source": [
    "The larger the word, the higher the frequency of the word. Thus, we can see that in the first 500 documents with the rec.sport.hockey label, the top occurring words are:\n",
    "\n",
    "1. game\n",
    "2. team\n",
    "3. player\n",
    "4. play\n",
    "5. win\n",
    "\n",
    "To determine the counts of these words, we can use a word counter. "
   ]
  },
  {
   "cell_type": "markdown",
   "metadata": {},
   "source": [
    "## Word Counts for rec.sport.hockey Target Class"
   ]
  },
  {
   "cell_type": "markdown",
   "metadata": {},
   "source": [
    "One method to count words is to use The FreqDist class in the NLTK library, which is a class used for \"frequency distributions\". This allows us to count the number of times that each outcome occurs (Nltk package, n.d.). Again, since the string version of our hockey_list is too large, we will use the first 500 documents. Recall, the cleaned version of the 500 documents is stored in the 'clean_hockey' variable. "
   ]
  },
  {
   "cell_type": "code",
   "execution_count": 44,
   "metadata": {},
   "outputs": [
    {
     "data": {
      "text/plain": [
       "'sure basher pen fan pretty confused lack kind post recent Pens massacre Devils actually bit puzzled '"
      ]
     },
     "execution_count": 44,
     "metadata": {},
     "output_type": "execute_result"
    }
   ],
   "source": [
    "clean_hockey[0:100]"
   ]
  },
  {
   "cell_type": "markdown",
   "metadata": {},
   "source": [
    "To get the top 20 most common words, we can use the .most_common(20) function in the nltk module. "
   ]
  },
  {
   "cell_type": "code",
   "execution_count": 45,
   "metadata": {},
   "outputs": [
    {
     "data": {
      "text/plain": [
       "[('game', 498),\n",
       " ('play', 357),\n",
       " ('team', 325),\n",
       " ('LA', 239),\n",
       " ('period', 239),\n",
       " ('player', 219),\n",
       " ('good', 191),\n",
       " ('goal', 186),\n",
       " ('win', 185),\n",
       " ('think', 176),\n",
       " ('year', 174),\n",
       " ('time', 160),\n",
       " ('like', 160),\n",
       " ('point', 159),\n",
       " ('get', 158),\n",
       " ('go', 157),\n",
       " ('shot', 155),\n",
       " ('hockey', 148),\n",
       " ('season', 135),\n",
       " ('playoff', 129)]"
      ]
     },
     "execution_count": 45,
     "metadata": {},
     "output_type": "execute_result"
    }
   ],
   "source": [
    "from nltk import FreqDist\n",
    "hockey_fd = FreqDist(clean_hockey.split())\n",
    "hockey_fd.most_common(20)"
   ]
  },
  {
   "cell_type": "markdown",
   "metadata": {},
   "source": [
    "We can see that the word 'game' occurs the most throughout the documents with the rec.sport.hockey label. Suppose we wanted to get the words that occur more than 100 times. We can use list compression or use a loop. A list compression would look like:"
   ]
  },
  {
   "cell_type": "code",
   "execution_count": 46,
   "metadata": {
    "scrolled": true
   },
   "outputs": [
    {
     "data": {
      "text/plain": [
       "[('go', 157),\n",
       " ('think', 176),\n",
       " ('season', 135),\n",
       " ('playoff', 129),\n",
       " ('game', 498),\n",
       " ('NJ', 115),\n",
       " ('LA', 239),\n",
       " ('BOS', 100),\n",
       " ('hockey', 148),\n",
       " ('time', 160)]"
      ]
     },
     "execution_count": 46,
     "metadata": {},
     "output_type": "execute_result"
    }
   ],
   "source": [
    "hockey_count = [(w, c) for w, c in hockey_fd.items() if c >= 100]\n",
    "hockey_count[0:10] #limit output"
   ]
  },
  {
   "cell_type": "code",
   "execution_count": 47,
   "metadata": {},
   "outputs": [
    {
     "data": {
      "text/plain": [
       "33"
      ]
     },
     "execution_count": 47,
     "metadata": {},
     "output_type": "execute_result"
    }
   ],
   "source": [
    "len(hockey_count)"
   ]
  },
  {
   "cell_type": "markdown",
   "metadata": {},
   "source": [
    "We can see that we have 33 words that occur more than 100 times in our rec.sport.hockey documents. We can also use a loop, which would look like: "
   ]
  },
  {
   "cell_type": "code",
   "execution_count": 48,
   "metadata": {},
   "outputs": [
    {
     "name": "stdout",
     "output_type": "stream",
     "text": [
      "go shows up 157 times\n",
      "think shows up 176 times\n",
      "season shows up 135 times\n",
      "playoff shows up 129 times\n",
      "game shows up 498 times\n",
      "NJ shows up 115 times\n",
      "LA shows up 239 times\n",
      "BOS shows up 100 times\n",
      "hockey shows up 148 times\n",
      "time shows up 160 times\n"
     ]
    }
   ],
   "source": [
    "#Get words that have more than 50 counts using a loop\n",
    "counter = 0 #limit output with counter\n",
    "\n",
    "for word, counts in hockey_fd.items(): #word, counts = key, value\n",
    "    if counter == 10:\n",
    "        break\n",
    "    if counts >= 100:\n",
    "        print(word, 'shows up', counts, 'times')\n",
    "        counter = counter + 1"
   ]
  },
  {
   "cell_type": "markdown",
   "metadata": {},
   "source": [
    "Now, we can plot the word frequencies using matplotlib by putting the hockey_count list (created with the list compression) in a dictionary and plotting the keys (words) and values (counts). "
   ]
  },
  {
   "cell_type": "code",
   "execution_count": 49,
   "metadata": {},
   "outputs": [
    {
     "data": {
      "image/png": "[encoded data removed]",
      "text/plain": [
       "<Figure size 504x432 with 1 Axes>"
      ]
     },
     "metadata": {
      "needs_background": "light"
     },
     "output_type": "display_data"
    }
   ],
   "source": [
    "import matplotlib.pyplot as plt\n",
    "f_plot = plt.figure(figsize=(7,6))\n",
    "\n",
    "plt.bar(dict(hockey_count).keys(), dict(hockey_count).values(), color=('lightblue'), edgecolor = 'black')\n",
    "plt.xticks(rotation=90)\n",
    "plt.xlabel('Top Words')\n",
    "plt.ylabel = ('Frequency Counts')\n",
    "plt.title('Frequency Counts for rec.sport.hockey Documents of Full 20 Newsgroups Dataset')\n",
    "\n",
    "plt.show()"
   ]
  },
  {
   "cell_type": "markdown",
   "metadata": {},
   "source": [
    "The plot allows us to clearly identify top word. We can easily see that the top occurring word in the first 500 documents labeled as rec.sport.hockey is 'game'. "
   ]
  },
  {
   "cell_type": "markdown",
   "metadata": {},
   "source": [
    "## Train a Naive Bayes Classifier"
   ]
  },
  {
   "cell_type": "markdown",
   "metadata": {},
   "source": [
    "Naive Bayes \"is a classification algorithm for binary (two-class) and multiclass classification problems. It is called Naive Bayes because the calculations of the probabilities for each class are simplified to make their calculations tractable (Brownlee, 2019).\" Sklearn provides a Naive Bayes classifier for mulinomial models which is suitable for classification with discrete features such as word counts for text classification (Naive_bayes. Multinomialnb, n.d.). "
   ]
  },
  {
   "cell_type": "markdown",
   "metadata": {},
   "source": [
    "### Naive Bayes with Split-Sample Data"
   ]
  },
  {
   "cell_type": "markdown",
   "metadata": {},
   "source": [
    "Before we attempt to train a classifier for our subsetted 20 newsgroups dataset (newsgroups_test, newsgroups_train), we will start with a small sample from our 20 newsgroups dataset. To sample our data, we can use the train_test_split() function in sklearn which splits arrays or matrices into random train and test subsets (Model_selection. Train_test_split, n.d.). We will sample our training dataset so we are only handling 5% of the full data. \n",
    "\n",
    "First, we need to get the training data that we will be sampling (newsgroups_train['data']). Then, we can use the train_test_split() function to sample down the data. We need to get a X_train, X_test, y_train, and y_test variables to be included in the split. The test_size is where we specify the size of our sample (5%). The 5% will be put into our X_test (train_docs_sample) variable and the labels we create (newsgroups_train['target']) will be put into our y_test (trainlabels_sample) variable. \n",
    "\n",
    "After we sample the data, we will use sklearn's TfidfVectorizer to fit our vectorizer and transform our train_docs_sample (Feature_extraction. Text. Tfidfvectorizer, n.d.). "
   ]
  },
  {
   "cell_type": "code",
   "execution_count": 53,
   "metadata": {},
   "outputs": [],
   "source": [
    "train_docs = newsgroups_train['data'] #train documents\n",
    "\n",
    "from sklearn.model_selection import train_test_split\n",
    "X_train, train_docs_sample, Y_labels, trainlabels_sample = train_test_split(train_docs, newsgroups_train['target'] , test_size=0.05, random_state=42)\n",
    "\n",
    "#test_size = 0.05 samples down the data to 5% of the original size\n",
    "\n",
    "#X_train, X_test, y_train, y_test = train_test_split(\n",
    "    #X, y, test_size=0.33, random_state=42)\n",
    "    \n",
    "# X_train = X_train (features for the train)\n",
    "# train_docs_sample = X_test (features for the test)\n",
    "# Y_labels = y_train (labels for the train)\n",
    "# trainlabels_sample = y_test (labels for the test)\n",
    "\n",
    "from sklearn.feature_extraction.text import TfidfVectorizer\n",
    "vectorizer = TfidfVectorizer() #create vectorizer\n",
    "train_feats = vectorizer.fit_transform(train_docs_sample) #fit transform sample test set\n",
    "test_feats = vectorizer.transform(X_train)"
   ]
  },
  {
   "cell_type": "markdown",
   "metadata": {},
   "source": [
    "Now, we can load our Naive Bayes classifier from sklearn and create and fit our model with our test features (train_docs_sample) and our test labels (trainlabels_sample). "
   ]
  },
  {
   "cell_type": "code",
   "execution_count": 54,
   "metadata": {},
   "outputs": [
    {
     "data": {
      "text/plain": [
       "MultinomialNB(alpha=1.0, class_prior=None, fit_prior=True)"
      ]
     },
     "execution_count": 54,
     "metadata": {},
     "output_type": "execute_result"
    }
   ],
   "source": [
    "from sklearn.naive_bayes import MultinomialNB\n",
    "\n",
    "sample_model = MultinomialNB() #create model\n",
    "sample_model.fit(train_feats, trainlabels_sample) "
   ]
  },
  {
   "cell_type": "markdown",
   "metadata": {},
   "source": [
    "To get an accuracy evaluation, we can use the .score() function with our train_feats and trainlabels_sample."
   ]
  },
  {
   "cell_type": "code",
   "execution_count": 55,
   "metadata": {},
   "outputs": [
    {
     "data": {
      "text/plain": [
       "92.40282685512368"
      ]
     },
     "execution_count": 55,
     "metadata": {},
     "output_type": "execute_result"
    }
   ],
   "source": [
    "#get accuracy eval\n",
    "sample_model.score(train_feats, trainlabels_sample)*100"
   ]
  },
  {
   "cell_type": "markdown",
   "metadata": {},
   "source": [
    "We can also compare this score to our baseline accuracy score. The baseline accuracy score, or the randomly guessing a class rate, would mean that we have a 1 in 20 chance of being correct. "
   ]
  },
  {
   "cell_type": "code",
   "execution_count": 56,
   "metadata": {
    "scrolled": false
   },
   "outputs": [
    {
     "data": {
      "text/plain": [
       "0.05"
      ]
     },
     "execution_count": 56,
     "metadata": {},
     "output_type": "execute_result"
    }
   ],
   "source": [
    "1/20 #baseline prediction"
   ]
  },
  {
   "cell_type": "code",
   "execution_count": null,
   "metadata": {},
   "outputs": [],
   "source": [
    "#trainlabels_sample, train_feats"
   ]
  },
  {
   "cell_type": "markdown",
   "metadata": {},
   "source": [
    "Now, we can try the code on our whole dataset"
   ]
  },
  {
   "cell_type": "markdown",
   "metadata": {},
   "source": [
    "### Naive Bayes with Full Data"
   ]
  },
  {
   "cell_type": "markdown",
   "metadata": {},
   "source": [
    "Following similar steps when we sampled our data, we will use sklearn's TfidfVectorizer to fit our vectorizer and transform our training documents (Feature_extraction. Text. Tfidfvectorizer, n.d.)."
   ]
  },
  {
   "cell_type": "code",
   "execution_count": 57,
   "metadata": {},
   "outputs": [],
   "source": [
    "# We can use the TfidfVectorizer to fit to the training set,\n",
    "# then extract features from a different dataset -- the test set in this case.\n",
    "\n",
    "from sklearn.feature_extraction.text import TfidfVectorizer\n",
    "\n",
    "vectorizer = TfidfVectorizer() #create vectorizer\n",
    "train_docs = newsgroups_train['data'] #train documents\n",
    "test_docs = newsgroups_test['data'] #test documents\n",
    "\n",
    "train_features = vectorizer.fit_transform(train_docs) #train features from train documents\n",
    "test_features = vectorizer.transform(test_docs)\n",
    "    #only want to transform test_docs; do not want to fit again, want to keep vectorizer fit to train_features \n",
    "train_labels = newsgroups_train['target']\n",
    "test_labels = newsgroups_test['target']   \n"
   ]
  },
  {
   "cell_type": "code",
   "execution_count": 58,
   "metadata": {
    "scrolled": true
   },
   "outputs": [
    {
     "data": {
      "text/plain": [
       "<11314x101631 sparse matrix of type '<class 'numpy.float64'>'\n",
       "\twith 1103627 stored elements in Compressed Sparse Row format>"
      ]
     },
     "execution_count": 58,
     "metadata": {},
     "output_type": "execute_result"
    }
   ],
   "source": [
    "train_features"
   ]
  },
  {
   "cell_type": "code",
   "execution_count": 59,
   "metadata": {},
   "outputs": [
    {
     "data": {
      "text/plain": [
       "(11314, 101631)"
      ]
     },
     "execution_count": 59,
     "metadata": {},
     "output_type": "execute_result"
    }
   ],
   "source": [
    "# the tfidf features are a 'sparse' matrix, so to view the matrix or it's full shape,\n",
    "# we need to convert to a dense matrix and then we can use the .shape function\n",
    "\n",
    "train_features.todense().shape #rows (documents) x words\n",
    "\n",
    "#look at first row \n",
    "#np.array(train_features.todense()[0, :])"
   ]
  },
  {
   "cell_type": "markdown",
   "metadata": {},
   "source": [
    "Notice, the sizing differences in our training document for our full dataset and our sample training document."
   ]
  },
  {
   "cell_type": "code",
   "execution_count": 60,
   "metadata": {},
   "outputs": [
    {
     "name": "stdout",
     "output_type": "stream",
     "text": [
      "Length of Full Size Training Documents: 11314\n",
      "Length of Sample Size Training Documents: 566\n"
     ]
    }
   ],
   "source": [
    "print('Length of Full Size Training Documents:', len(train_docs))\n",
    "print('Length of Sample Size Training Documents:', len(train_docs_sample))"
   ]
  },
  {
   "cell_type": "code",
   "execution_count": 61,
   "metadata": {
    "scrolled": true
   },
   "outputs": [
    {
     "name": "stdout",
     "output_type": "stream",
     "text": [
      "Confirm % Split of Sample Documents: 0.05002651582110659\n"
     ]
    }
   ],
   "source": [
    "print('Confirm % Split of Sample Documents:', len(train_docs_sample)/len(train_docs))"
   ]
  },
  {
   "cell_type": "markdown",
   "metadata": {},
   "source": [
    "We can now create and fit our Naive Bayes classifier model. "
   ]
  },
  {
   "cell_type": "code",
   "execution_count": 62,
   "metadata": {},
   "outputs": [
    {
     "data": {
      "text/plain": [
       "MultinomialNB(alpha=1.0, class_prior=None, fit_prior=True)"
      ]
     },
     "execution_count": 62,
     "metadata": {},
     "output_type": "execute_result"
    }
   ],
   "source": [
    "model = MultinomialNB()\n",
    "model.fit(train_features, train_labels)"
   ]
  },
  {
   "cell_type": "code",
   "execution_count": 63,
   "metadata": {},
   "outputs": [
    {
     "name": "stdout",
     "output_type": "stream",
     "text": [
      " Score of Model on Train Data: 81.13841258617643\n",
      "Score of Model on Test Data: 60.621348911311735\n"
     ]
    }
   ],
   "source": [
    "print(' Score of Model on Train Data:', model.score(train_features, train_labels)*100)\n",
    "print('Score of Model on Test Data:', model.score(test_features, test_labels)*100)"
   ]
  },
  {
   "cell_type": "markdown",
   "metadata": {},
   "source": [
    "The accuracy_score() function \"computes subset accuracy: the set of labels predicted for a sample must exactly match the corresponding set of labels in y_true (Accuracy_score, n.d.).\" First, we need to use our trained model to make a prediction on our test features and then we can use the accuracy_score() function to score our model. The accuracy_score() function takes in the correct predictions and the model's predictions (Accuracy_score, n.d.). "
   ]
  },
  {
   "cell_type": "code",
   "execution_count": 64,
   "metadata": {},
   "outputs": [
    {
     "name": "stdout",
     "output_type": "stream",
     "text": [
      "0.6062134891131173\n"
     ]
    }
   ],
   "source": [
    "preds = model.predict(test_features)\n",
    "\n",
    "from sklearn.metrics import accuracy_score\n",
    "print(accuracy_score(test_labels, preds))"
   ]
  },
  {
   "cell_type": "markdown",
   "metadata": {},
   "source": []
  },
  {
   "cell_type": "code",
   "execution_count": 65,
   "metadata": {},
   "outputs": [
    {
     "name": "stdout",
     "output_type": "stream",
     "text": [
      "Macro Average: 0.722196612522822\n",
      "Micro Average: 0.6062134891131173\n",
      "Weighted Average: 0.7244658923065453\n"
     ]
    }
   ],
   "source": [
    "from sklearn.metrics import precision_score \n",
    "\n",
    "print('Macro Average:', precision_score(test_labels, preds, average = 'macro'))\n",
    "print('Micro Average:', precision_score(test_labels, preds, average = 'micro'))\n",
    "print('Weighted Average:', precision_score(test_labels, preds, average = 'weighted'))"
   ]
  },
  {
   "cell_type": "markdown",
   "metadata": {},
   "source": [
    "Next, we can compute the recall score of our model. Recall \"expresses the ability to find all relevant instances in a dataset, precision expresses the proportion of the data points our model says was relevant actually were relevant (Koehrsen, 2018).\" Similar to precision_score, we can compute a macro, micro, and weighted average (Recall_score, n.d.). Also similar to precision_score, a value of 1 is the best and a 0 is the worst. "
   ]
  },
  {
   "cell_type": "code",
   "execution_count": 66,
   "metadata": {},
   "outputs": [
    {
     "name": "stdout",
     "output_type": "stream",
     "text": [
      "Macro Average: 0.5842852916590432\n",
      "Micro Average: 0.6062134891131173\n",
      "Weighted Average: 0.6062134891131173\n"
     ]
    }
   ],
   "source": [
    "from sklearn.metrics import recall_score \n",
    "\n",
    "print('Macro Average:', recall_score(test_labels, preds, average = 'macro'))\n",
    "print('Micro Average:', recall_score(test_labels, preds, average = 'micro'))\n",
    "print('Weighted Average:', recall_score(test_labels, preds, average = 'weighted'))"
   ]
  },
  {
   "cell_type": "markdown",
   "metadata": {},
   "source": [
    "We can combine precision and recall scores and calculate a F1 score. A F1 score is calculated by the following equation: 2*((precision * recall/precision + recall)) (Koehrsen, 2018). One method of computing the F1 score is to create a classification report using the classification_report function from sklearn. The classification reports contains the macro average, the weighted average, and sample average (accuracy) (Classification_report, n.d.).\" "
   ]
  },
  {
   "cell_type": "code",
   "execution_count": 67,
   "metadata": {
    "scrolled": false
   },
   "outputs": [
    {
     "name": "stdout",
     "output_type": "stream",
     "text": [
      "              precision    recall  f1-score   support\n",
      "\n",
      "           0       0.81      0.07      0.13       319\n",
      "           1       0.72      0.62      0.67       389\n",
      "           2       0.70      0.50      0.59       394\n",
      "           3       0.55      0.75      0.64       392\n",
      "           4       0.81      0.61      0.69       385\n",
      "           5       0.83      0.74      0.78       395\n",
      "           6       0.86      0.69      0.77       390\n",
      "           7       0.82      0.68      0.74       396\n",
      "           8       0.89      0.63      0.73       398\n",
      "           9       0.95      0.69      0.80       397\n",
      "          10       0.59      0.90      0.71       399\n",
      "          11       0.47      0.80      0.59       396\n",
      "          12       0.77      0.43      0.55       393\n",
      "          13       0.86      0.63      0.73       396\n",
      "          14       0.84      0.63      0.72       394\n",
      "          15       0.22      0.95      0.36       398\n",
      "          16       0.59      0.59      0.59       364\n",
      "          17       0.85      0.70      0.77       376\n",
      "          18       0.81      0.08      0.15       310\n",
      "          19       0.50      0.00      0.01       251\n",
      "\n",
      "    accuracy                           0.61      7532\n",
      "   macro avg       0.72      0.58      0.59      7532\n",
      "weighted avg       0.72      0.61      0.61      7532\n",
      "\n"
     ]
    }
   ],
   "source": [
    "from sklearn.metrics import classification_report \n",
    "print(classification_report(test_labels, preds))"
   ]
  },
  {
   "cell_type": "markdown",
   "metadata": {},
   "source": [
    "### Confusion Matrix"
   ]
  },
  {
   "cell_type": "markdown",
   "metadata": {},
   "source": [
    "One way to visualize precision and recall is to create a confusion matrix. A confusion matrix calculates precision and recall from our model's predicted labels and shows the four outcomes: true positives, false positives, true negative, and false negatives (Koehrsen, 2018). The actual labels form the columns and the predicted labels form the rows (Koehrsen, 2018). \n",
    "\n",
    "Similar to the precision_score() and recall_score(), the confusion_matrix function() from sklearn takes in the correct predictions and the model's predictions and creates the confusion matrix (Confusion_matrix, n.d.). "
   ]
  },
  {
   "cell_type": "code",
   "execution_count": 68,
   "metadata": {
    "scrolled": false
   },
   "outputs": [
    {
     "data": {
      "text/plain": [
       "array([[ 22,   1,   0,   1,   1,   1,   0,   0,   2,   1,   9,   8,   1,\n",
       "          2,   2, 253,   4,  10,   0,   1],\n",
       "       [  0, 241,  14,  17,   7,  24,   4,   0,   2,   0,   5,  34,   0,\n",
       "          0,   7,  33,   0,   1,   0,   0],\n",
       "       [  0,  21, 198,  63,   6,  20,   1,   2,   1,   0,  15,  27,   0,\n",
       "          1,   5,  34,   0,   0,   0,   0],\n",
       "       [  0,   5,  21, 295,  17,   2,   5,   0,   0,   0,   8,  20,  12,\n",
       "          0,   0,   7,   0,   0,   0,   0],\n",
       "       [  0,   4,  13,  56, 233,   3,   4,   5,   1,   0,  14,  19,   6,\n",
       "          2,   2,  20,   3,   0,   0,   0],\n",
       "       [  0,  24,  17,  12,   0, 292,   4,   1,   0,   0,   5,  20,   2,\n",
       "          0,   1,  16,   1,   0,   0,   0],\n",
       "       [  0,   1,   3,  42,  13,   0, 270,  11,   2,   1,   8,   3,   6,\n",
       "          0,   2,  24,   4,   0,   0,   0],\n",
       "       [  0,   0,   1,   1,   0,   2,   9, 270,   7,   1,  25,  14,   8,\n",
       "          3,   4,  44,   2,   3,   2,   0],\n",
       "       [  0,   2,   0,   1,   0,   1,   5,  20, 249,   2,  14,  17,   7,\n",
       "          6,   3,  63,   5,   3,   0,   0],\n",
       "       [  0,   3,   1,   1,   0,   1,   3,   0,   2, 275,  34,  10,   0,\n",
       "          2,   0,  65,   0,   0,   0,   0],\n",
       "       [  0,   0,   0,   1,   0,   0,   0,   1,   0,   3, 358,   3,   0,\n",
       "          1,   1,  29,   2,   0,   0,   0],\n",
       "       [  0,   4,   4,   2,   1,   3,   1,   0,   2,   1,  16, 316,   2,\n",
       "          2,   2,  29,   9,   2,   0,   0],\n",
       "       [  0,   6,   5,  36,   9,   2,   6,   6,   5,   2,  12,  84, 168,\n",
       "          8,   7,  34,   2,   1,   0,   0],\n",
       "       [  0,   7,   1,   2,   0,   0,   0,   2,   0,   0,  16,   9,   2,\n",
       "        251,   1,  99,   3,   3,   0,   0],\n",
       "       [  0,   9,   1,   1,   0,   0,   0,   2,   1,   0,  18,  24,   4,\n",
       "          4, 248,  76,   3,   2,   1,   0],\n",
       "       [  0,   1,   1,   0,   0,   1,   0,   0,   0,   1,  14,   1,   0,\n",
       "          1,   1, 377,   0,   0,   0,   0],\n",
       "       [  0,   0,   1,   0,   0,   0,   1,   3,   1,   1,  11,  29,   0,\n",
       "          0,   3,  94, 214,   4,   2,   0],\n",
       "       [  1,   1,   0,   1,   0,   1,   0,   1,   5,   2,   7,   5,   0,\n",
       "          2,   0,  81,   5, 263,   1,   0],\n",
       "       [  1,   1,   0,   0,   0,   0,   0,   3,   0,   0,   8,  30,   1,\n",
       "          4,   5, 137,  88,   7,  25,   0],\n",
       "       [  3,   3,   1,   1,   0,   0,   0,   2,   0,   0,   7,   5,   0,\n",
       "          3,   2, 195,  19,   9,   0,   1]], dtype=int64)"
      ]
     },
     "execution_count": 68,
     "metadata": {},
     "output_type": "execute_result"
    }
   ],
   "source": [
    "from sklearn.metrics import confusion_matrix\n",
    "conf_matrix = confusion_matrix(test_labels, preds)\n",
    "conf_matrix"
   ]
  },
  {
   "cell_type": "code",
   "execution_count": 69,
   "metadata": {},
   "outputs": [
    {
     "data": {
      "text/plain": [
       "array([  27,  334,  282,  533,  287,  353,  313,  329,  280,  290,  604,\n",
       "        678,  219,  292,  296, 1710,  364,  308,   31,    2], dtype=int64)"
      ]
     },
     "execution_count": 69,
     "metadata": {},
     "output_type": "execute_result"
    }
   ],
   "source": [
    "#sum of the values in each column \n",
    "    #(How to sum columns of an array in Python, n.d.)\n",
    "np.sum(conf_matrix,axis=0)"
   ]
  },
  {
   "cell_type": "markdown",
   "metadata": {},
   "source": [
    "The values in the confusion matrix can be best described by an example: Take the first column of the matrix, which is the label 0 (alt.atheism). The value in each row for the first column is the number of values the model predicted for each label. In other words, of the 27 actual label 0's, the model predicted that there were 22-label 0's, 1-label 17, 1-label 18, and 3-label 19's (which can easily be seen in the heatmap below) (Confusion matrix, 2020). All the correct predictions are located on the diagonal of the matrix (Confusion matrix, 2020)."
   ]
  },
  {
   "cell_type": "markdown",
   "metadata": {},
   "source": [
    "The output of the confusion matrix is difficult to read. To make it easier to read, we can use the heatmap() function in the seaborn module. We can then add the values of our confusion matrix to the heatmap by using the argument 'annot = True' (annotations) (Seaborn heatmap, n.d.). Then, we can use the argument 'fmt = 'd'' to format the cells from strings to numbers (Seaborn heatmap, n.d.). Then, we can change the widths of the lines that divide each cell with the argument 'linewidth' (Seaborn heatmap, n.d.). Now, since we have the values for each label, we can remove the colorbar by using 'cbar = False'. The 'cmap' argument was added to change the colormaps color to also make it easier to read (Choosing Colormaps in Matplotlib, n.d.). We can then add the labels or target names to the heatmap by adding the xticklabels and yticklabels argument to our heatmap() function."
   ]
  },
  {
   "cell_type": "code",
   "execution_count": 70,
   "metadata": {},
   "outputs": [
    {
     "data": {
      "image/png": "[encoded data removed]",
      "text/plain": [
       "<Figure size 864x864 with 1 Axes>"
      ]
     },
     "metadata": {
      "needs_background": "light"
     },
     "output_type": "display_data"
    }
   ],
   "source": [
    "import seaborn as sns\n",
    "import matplotlib.pyplot as plt\n",
    "\n",
    "fig = plt.figure(figsize=(12, 12))\n",
    "names = newsgroups_test['target_names']\n",
    "\n",
    "sns.heatmap(conf_matrix, annot=True, fmt =\"d\", linewidths = 0.5, \n",
    "            cbar = False, xticklabels=names, yticklabels=names, cmap ='PuBuGn')\n",
    "plt.title('Confusion Matrix for Naive Bayes Model')\n",
    "\n",
    "# plt.ylabel('Actual Labels')\n",
    "# plt.xlabel('Predicted')\n",
    "#     kept receiving error when trying to add labels\n",
    "\n",
    "plt.show()"
   ]
  },
  {
   "cell_type": "markdown",
   "metadata": {},
   "source": [
    "# Resources"
   ]
  },
  {
   "cell_type": "markdown",
   "metadata": {},
   "source": [
    "Accuracy_score. (n.d.). Retrieved May 31, 2020, from https://scikit-learn.org/stable/modules/generated/sklearn.metrics.accuracy_score.html#sklearn.metrics.accuracy_score\n",
    "\n",
    "Brownlee, J. (2019, October 17). Naive bayes classifier from scratch in python. Machine Learning Mastery. https://machinelearningmastery.com/naive-bayes-classifier-scratch-python/\n",
    "\n",
    "Built-in Functions . (n.d.). Retrieved June 1, 2020, from https://docs.python.org/3/library/functions.html#enumerate\n",
    "\n",
    "Choosing Colormaps in Matplotlib. (n.d.). https://matplotlib.org/3.2.1/tutorials/colors/colormaps.html\n",
    "\n",
    "Classification_report. (n.d.). Retrieved May 31, 2020, from https://scikit-learn.org/stable/modules/generated/sklearn.metrics.classification_report.html\n",
    "\n",
    "Confusion matrix. (2020). In Wikipedia. https://en.wikipedia.org/w/index.php?title=Confusion_matrix&oldid=954210836\n",
    "\n",
    "Confusion_matrix. (n.d.). Retrieved May 31, 2020, from https://scikit-learn.org/stable/modules/generated/sklearn.metrics.confusion_matrix.html\n",
    "\n",
    "Dataset loading utilities . (n.d.). Retrieved June 1, 2020, from https://scikit-learn.org/stable/datasets/index.html#newsgroups-dataset\n",
    "\n",
    "Feature_extraction. Text. Tfidfvectorizer. (n.d.). Retrieved May 31, 2020, from https://scikit-learn.org/stable/modules/generated/sklearn.feature_extraction.text.TfidfVectorizer.html\n",
    "\n",
    "How to sum columns of an array in Python. (n.d.). Stack Overflow. Retrieved May 31, 2020, from https://stackoverflow.com/questions/43459581/how-to-sum-columns-of-an-array-in-python\n",
    "\n",
    "Kadam, S. (2018, May 11). Generating word cloud in python. GeeksforGeeks. https://www.geeksforgeeks.org/generating-word-cloud-python/\n",
    "\n",
    "Koehrsen, W. (2018, March 10). Beyond accuracy: Precision and recall. Medium. https://towardsdatascience.com/beyond-accuracy-precision-and-recall-3da06bea9f6c\n",
    "\n",
    "Model_selection. Train_test_split. (n.d.). Retrieved May 31, 2020, from https://scikit-learn.org/stable/modules/generated/sklearn.model_selection.train_test_split.html\n",
    "\n",
    "Naive_bayes. Multinomialnb. (n.d.). Retrieved May 31, 2020, from https://scikit-learn.org/stable/modules/generated/sklearn.naive_bayes.MultinomialNB.html\n",
    "\n",
    "Nltk package. (n.d.). Retrieved May 16, 2020, from http://www.nltk.org/api/nltk.html?highlight=freqdist\n",
    "\n",
    "Precision_score . (n.d.). Retrieved May 31, 2020, from https://scikit-learn.org/stable/modules/generated/sklearn.metrics.precision_score.html#sklearn.metrics.precision_score\n",
    "\n",
    "Recall_score. (n.d.). Retrieved May 31, 2020, from https://scikit-learn.org/stable/modules/generated/sklearn.metrics.recall_score.html#sklearn.metrics.recall_score\n",
    "\n",
    "Replace elements of a matrix using numpy in python. (2019, October 31). https://www.science-emergence.com/Articles/How-to-replace-some-elements-of-a-matrix-using-numpy-in-python-/\n",
    "\n",
    "Rotate axis text in python matplotlib. (n.d.). Stack Overflow. Retrieved June 1, 2020, from https://stackoverflow.com/questions/10998621/rotate-axis-text-in-python-matplotlib\n",
    "\n",
    "Seaborn heatmap. (n.d.). Retrieved May 31, 2020, from https://seaborn.pydata.org/generated/seaborn.heatmap.html\n",
    "\n",
    "Varun. (n.d.). Python: Find unique values in a numpy array with frequency & indices | numpy.unique() – thispointer.com. Retrieved June 1, 2020, from https://thispointer.com/python-find-unique-values-in-a-numpy-array-with-frequency-indices-numpy-unique/\n",
    "\n",
    "Vu, D. (2019, November 8). Generate word clouds in python. DataCamp Community. https://www.datacamp.com/community/tutorials/wordcloud-python"
   ]
  }
 ],
 "metadata": {
  "kernelspec": {
   "display_name": "Python 3",
   "language": "python",
   "name": "python3"
  },
  "language_info": {
   "codemirror_mode": {
    "name": "ipython",
    "version": 3
   },
   "file_extension": ".py",
   "mimetype": "text/x-python",
   "name": "python",
   "nbconvert_exporter": "python",
   "pygments_lexer": "ipython3",
   "version": "3.7.4"
  }
 },
 "nbformat": 4,
 "nbformat_minor": 2
}
